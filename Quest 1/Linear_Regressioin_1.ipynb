{
 "cells": [
  {
   "attachments": {},
   "cell_type": "markdown",
   "metadata": {},
   "source": [
    "### (1) 데이터 가져오기\n",
    "- `sklearn.datasets`의 `load_diabetes`에서 데이터를 가져와주세요.\n",
    "- `diabetes`의 `data`를 `df_X`에, `target`을 `df_y`에 저장해주세요."
   ]
  },
  {
   "cell_type": "code",
   "execution_count": 1,
   "metadata": {},
   "outputs": [],
   "source": [
    "from sklearn.datasets import load_diabetes\n",
    "\n",
    "diabetes = load_diabetes()"
   ]
  },
  {
   "attachments": {},
   "cell_type": "markdown",
   "metadata": {},
   "source": [
    "## (2) 모델에 입력할 데이터 X 준비하기\n",
    "- `df_X`에 있는 값들을 numpy array로 변환해서 저장해주세요."
   ]
  },
  {
   "cell_type": "code",
   "execution_count": 2,
   "metadata": {},
   "outputs": [],
   "source": [
    "df_X, df_Y = diabetes.data, diabetes.target"
   ]
  },
  {
   "cell_type": "code",
   "execution_count": 3,
   "metadata": {},
   "outputs": [
    {
     "name": "stdout",
     "output_type": "stream",
     "text": [
      "<class 'numpy.ndarray'>\n",
      "[[ 0.03807591  0.05068012  0.06169621  0.02187239 -0.0442235  -0.03482076\n",
      "  -0.04340085 -0.00259226  0.01990749 -0.01764613]\n",
      " [-0.00188202 -0.04464164 -0.05147406 -0.02632753 -0.00844872 -0.01916334\n",
      "   0.07441156 -0.03949338 -0.06833155 -0.09220405]\n",
      " [ 0.08529891  0.05068012  0.04445121 -0.00567042 -0.04559945 -0.03419447\n",
      "  -0.03235593 -0.00259226  0.00286131 -0.02593034]\n",
      " [-0.08906294 -0.04464164 -0.01159501 -0.03665608  0.01219057  0.02499059\n",
      "  -0.03603757  0.03430886  0.02268774 -0.00936191]\n",
      " [ 0.00538306 -0.04464164 -0.03638469  0.02187239  0.00393485  0.01559614\n",
      "   0.00814208 -0.00259226 -0.03198764 -0.04664087]]\n",
      "\n",
      "[151.  75. 141. 206. 135.]\n"
     ]
    }
   ],
   "source": [
    "import numpy as np\n",
    "\n",
    "print(type(df_X))\n",
    "print(df_X[:5])\n",
    "print()\n",
    "print(df_Y[:5])"
   ]
  },
  {
   "attachments": {},
   "cell_type": "markdown",
   "metadata": {},
   "source": [
    "### (3) 모델에 예측할 데이터 y 준비하기\n",
    "- `df_y`에 있는 값들을 numpy array로 변환해서 저장해주세요."
   ]
  },
  {
   "cell_type": "code",
   "execution_count": 4,
   "metadata": {},
   "outputs": [
    {
     "name": "stdout",
     "output_type": "stream",
     "text": [
      "<class 'numpy.ndarray'>\n"
     ]
    }
   ],
   "source": [
    "print(type(df_Y))"
   ]
  },
  {
   "attachments": {},
   "cell_type": "markdown",
   "metadata": {},
   "source": [
    "### (4) train 데이터와 test 데이터로 분리하기\n",
    "- `X`와 `y` 데이터를 각각 `train` 데이터와 `test` 데이터로 분리해주세요.\n"
   ]
  },
  {
   "cell_type": "code",
   "execution_count": 5,
   "metadata": {},
   "outputs": [
    {
     "name": "stdout",
     "output_type": "stream",
     "text": [
      "(353, 10)\n",
      "(353,)\n",
      "(89, 10)\n",
      "(89,)\n"
     ]
    }
   ],
   "source": [
    "from sklearn.model_selection import train_test_split\n",
    "\n",
    "train_X, test_X, train_Y, test_Y = train_test_split(df_X, df_Y, test_size=0.2)\n",
    "print(train_X.shape)\n",
    "print(train_Y.shape)\n",
    "print(test_X.shape)\n",
    "print(test_Y.shape)"
   ]
  },
  {
   "attachments": {},
   "cell_type": "markdown",
   "metadata": {},
   "source": [
    "### (5) 모델 준비하기\n",
    "- 입력 데이터 개수에 맞는 가중치 `W`와 `b`를 준비해주세요.\n",
    "- 모델 함수를 구현해주세요.\n"
   ]
  },
  {
   "cell_type": "code",
   "execution_count": 6,
   "metadata": {},
   "outputs": [
    {
     "name": "stdout",
     "output_type": "stream",
     "text": [
      "(353, 10)\n",
      "(10,) (1,)\n"
     ]
    }
   ],
   "source": [
    "print(train_X.shape) # Feature의 갯수가 10개이므로, W = 10, b = 1\n",
    "W = np.random.rand(10)\n",
    "b = np.random.rand(1)\n",
    "\n",
    "print(W.shape, b.shape)"
   ]
  },
  {
   "cell_type": "code",
   "execution_count": 7,
   "metadata": {},
   "outputs": [],
   "source": [
    "# def model(x, w, b): # 단일 input model.\n",
    "#     y = w * x + b \n",
    "#     return y\n",
    "# 현재 Dataset이 한번에 연산되는 것을 원하므로, numpy의 dot product를 이용해 계산.\n",
    "def model(X, W, b):\n",
    "    return X @ W + b"
   ]
  },
  {
   "attachments": {},
   "cell_type": "markdown",
   "metadata": {},
   "source": [
    "### (6) 손실함수 loss 정의하기\n",
    "- 손실함수를 MSE 함수로 정의해주세요."
   ]
  },
  {
   "cell_type": "code",
   "execution_count": 8,
   "metadata": {},
   "outputs": [],
   "source": [
    "def MSE(input, target):\n",
    "    return ((input - target)**2).mean()"
   ]
  },
  {
   "attachments": {},
   "cell_type": "markdown",
   "metadata": {},
   "source": [
    "### (7) 기울기를 구하는 gradient 함수 구현하기\n",
    "- 기울기를 계산하는 `gradient` 함수를 구현해주세요."
   ]
  },
  {
   "cell_type": "code",
   "execution_count": 9,
   "metadata": {},
   "outputs": [],
   "source": [
    "def gradient(X, W, b, y):\n",
    "    # input Data의 갯수\n",
    "    N = len(X)\n",
    "    \n",
    "    # Inference(model prediction 결과 도출)\n",
    "    pred_y = model(X, W, b)\n",
    "    \n",
    "    # dW 계산. 1-9를 참고하면 쉽게 도출되는 것을 확인할 수 있음.\n",
    "    dW = 1/N * 2 * X.T.dot(pred_y - y) \n",
    "    \n",
    "    db = 2 * (pred_y - y).mean()\n",
    "    \n",
    "    return dW, db, pred_y"
   ]
  },
  {
   "attachments": {},
   "cell_type": "markdown",
   "metadata": {},
   "source": [
    "### (8) 하이퍼 파라미터인 학습률 설정하기\n",
    "- 학습률, learning rate 를 설정해주세요\n",
    "- 만약 학습이 잘 되지 않는다면 learning rate 값을 한번 여러 가지로 설정하며 실험해 보세요."
   ]
  },
  {
   "cell_type": "code",
   "execution_count": 10,
   "metadata": {},
   "outputs": [],
   "source": [
    "lr = 0.1 # 변경하며 실험해보기"
   ]
  },
  {
   "attachments": {},
   "cell_type": "markdown",
   "metadata": {},
   "source": [
    "### (9) 모델 학습하기\n",
    "- 정의된 손실함수와 기울기 함수로 모델을 학습해주세요.\n",
    "- loss값이 충분히 떨어질 때까지 학습을 진행해주세요.\n",
    "- 입력하는 데이터인 X에 들어가는 특성 컬럼들을 몇 개 빼도 괜찮습니다. 다양한 데이터로 실험해 보세요."
   ]
  },
  {
   "cell_type": "code",
   "execution_count": 11,
   "metadata": {},
   "outputs": [
    {
     "name": "stdout",
     "output_type": "stream",
     "text": [
      "10 epochs are processing : Loss 6113.0562\n",
      "20 epochs are processing : Loss 5649.8798\n",
      "30 epochs are processing : Loss 5577.8001\n",
      "40 epochs are processing : Loss 5512.2896\n",
      "50 epochs are processing : Loss 5448.8462\n",
      "60 epochs are processing : Loss 5387.3512\n",
      "70 epochs are processing : Loss 5327.7387\n",
      "80 epochs are processing : Loss 5269.9457\n",
      "90 epochs are processing : Loss 5213.9115\n",
      "100 epochs are processing : Loss 5159.5774\n",
      "110 epochs are processing : Loss 5106.8865\n",
      "120 epochs are processing : Loss 5055.7842\n",
      "130 epochs are processing : Loss 5006.2175\n",
      "140 epochs are processing : Loss 4958.1353\n",
      "150 epochs are processing : Loss 4911.4885\n",
      "160 epochs are processing : Loss 4866.2292\n",
      "170 epochs are processing : Loss 4822.3116\n",
      "180 epochs are processing : Loss 4779.6911\n",
      "190 epochs are processing : Loss 4738.3249\n",
      "200 epochs are processing : Loss 4698.1716\n",
      "210 epochs are processing : Loss 4659.1912\n",
      "220 epochs are processing : Loss 4621.3449\n",
      "230 epochs are processing : Loss 4584.5955\n",
      "240 epochs are processing : Loss 4548.9069\n",
      "250 epochs are processing : Loss 4514.2443\n",
      "260 epochs are processing : Loss 4480.5741\n",
      "270 epochs are processing : Loss 4447.8637\n",
      "280 epochs are processing : Loss 4416.0819\n",
      "290 epochs are processing : Loss 4385.1983\n",
      "300 epochs are processing : Loss 4355.1837\n",
      "310 epochs are processing : Loss 4326.0097\n",
      "320 epochs are processing : Loss 4297.6491\n",
      "330 epochs are processing : Loss 4270.0755\n",
      "340 epochs are processing : Loss 4243.2634\n",
      "350 epochs are processing : Loss 4217.1882\n",
      "360 epochs are processing : Loss 4191.8261\n",
      "370 epochs are processing : Loss 4167.1541\n",
      "380 epochs are processing : Loss 4143.1501\n",
      "390 epochs are processing : Loss 4119.7926\n",
      "400 epochs are processing : Loss 4097.0610\n",
      "410 epochs are processing : Loss 4074.9351\n",
      "420 epochs are processing : Loss 4053.3957\n",
      "430 epochs are processing : Loss 4032.4241\n",
      "440 epochs are processing : Loss 4012.0023\n",
      "450 epochs are processing : Loss 3992.1127\n",
      "460 epochs are processing : Loss 3972.7387\n",
      "470 epochs are processing : Loss 3953.8638\n",
      "480 epochs are processing : Loss 3935.4725\n",
      "490 epochs are processing : Loss 3917.5494\n",
      "500 epochs are processing : Loss 3900.0799\n",
      "510 epochs are processing : Loss 3883.0498\n",
      "520 epochs are processing : Loss 3866.4454\n",
      "530 epochs are processing : Loss 3850.2534\n",
      "540 epochs are processing : Loss 3834.4611\n",
      "550 epochs are processing : Loss 3819.0560\n",
      "560 epochs are processing : Loss 3804.0262\n",
      "570 epochs are processing : Loss 3789.3602\n",
      "580 epochs are processing : Loss 3775.0467\n",
      "590 epochs are processing : Loss 3761.0750\n",
      "600 epochs are processing : Loss 3747.4346\n",
      "610 epochs are processing : Loss 3734.1154\n",
      "620 epochs are processing : Loss 3721.1078\n",
      "630 epochs are processing : Loss 3708.4021\n",
      "640 epochs are processing : Loss 3695.9895\n",
      "650 epochs are processing : Loss 3683.8609\n",
      "660 epochs are processing : Loss 3672.0079\n",
      "670 epochs are processing : Loss 3660.4224\n",
      "680 epochs are processing : Loss 3649.0962\n",
      "690 epochs are processing : Loss 3638.0217\n",
      "700 epochs are processing : Loss 3627.1915\n",
      "710 epochs are processing : Loss 3616.5984\n",
      "720 epochs are processing : Loss 3606.2354\n",
      "730 epochs are processing : Loss 3596.0957\n",
      "740 epochs are processing : Loss 3586.1729\n",
      "750 epochs are processing : Loss 3576.4606\n",
      "760 epochs are processing : Loss 3566.9529\n",
      "770 epochs are processing : Loss 3557.6437\n",
      "780 epochs are processing : Loss 3548.5273\n",
      "790 epochs are processing : Loss 3539.5984\n",
      "800 epochs are processing : Loss 3530.8515\n",
      "810 epochs are processing : Loss 3522.2815\n",
      "820 epochs are processing : Loss 3513.8834\n",
      "830 epochs are processing : Loss 3505.6523\n",
      "840 epochs are processing : Loss 3497.5836\n",
      "850 epochs are processing : Loss 3489.6728\n",
      "860 epochs are processing : Loss 3481.9155\n",
      "870 epochs are processing : Loss 3474.3075\n",
      "880 epochs are processing : Loss 3466.8446\n",
      "890 epochs are processing : Loss 3459.5230\n",
      "900 epochs are processing : Loss 3452.3387\n",
      "910 epochs are processing : Loss 3445.2880\n",
      "920 epochs are processing : Loss 3438.3674\n",
      "930 epochs are processing : Loss 3431.5734\n",
      "940 epochs are processing : Loss 3424.9026\n",
      "950 epochs are processing : Loss 3418.3518\n",
      "960 epochs are processing : Loss 3411.9177\n",
      "970 epochs are processing : Loss 3405.5974\n",
      "980 epochs are processing : Loss 3399.3878\n",
      "990 epochs are processing : Loss 3393.2861\n",
      "1000 epochs are processing : Loss 3387.2895\n"
     ]
    }
   ],
   "source": [
    "epochs = 1000\n",
    "loss_list = []\n",
    "\n",
    "\n",
    "for i in range(1, epochs + 1):\n",
    "    # inference(prediction 값 얻음)\n",
    "    dW, db, pred_y = gradient(train_X, W, b, train_Y)\n",
    "    \n",
    "    W -= lr * dW\n",
    "    b -= lr * db\n",
    "    L = MSE(pred_y,train_Y)\n",
    "    loss_list.append(L)\n",
    "    if i % 10 == 0:\n",
    "        print(f\"{i} epochs are processing : Loss {L:0.4f}\")"
   ]
  },
  {
   "cell_type": "code",
   "execution_count": 12,
   "metadata": {},
   "outputs": [
    {
     "name": "stdout",
     "output_type": "stream",
     "text": [
      "10 epochs are processing : Loss 3381.3954\n",
      "20 epochs are processing : Loss 3375.6010\n",
      "30 epochs are processing : Loss 3369.9040\n",
      "40 epochs are processing : Loss 3364.3018\n",
      "50 epochs are processing : Loss 3358.7921\n",
      "60 epochs are processing : Loss 3353.3725\n",
      "70 epochs are processing : Loss 3348.0409\n",
      "80 epochs are processing : Loss 3342.7951\n",
      "90 epochs are processing : Loss 3337.6329\n",
      "100 epochs are processing : Loss 3332.5525\n",
      "110 epochs are processing : Loss 3327.5517\n",
      "120 epochs are processing : Loss 3322.6288\n",
      "130 epochs are processing : Loss 3317.7818\n",
      "140 epochs are processing : Loss 3313.0089\n",
      "150 epochs are processing : Loss 3308.3085\n",
      "160 epochs are processing : Loss 3303.6788\n",
      "170 epochs are processing : Loss 3299.1183\n",
      "180 epochs are processing : Loss 3294.6252\n",
      "190 epochs are processing : Loss 3290.1981\n",
      "200 epochs are processing : Loss 3285.8355\n",
      "210 epochs are processing : Loss 3281.5360\n",
      "220 epochs are processing : Loss 3277.2981\n",
      "230 epochs are processing : Loss 3273.1204\n",
      "240 epochs are processing : Loss 3269.0017\n",
      "250 epochs are processing : Loss 3264.9407\n",
      "260 epochs are processing : Loss 3260.9361\n",
      "270 epochs are processing : Loss 3256.9866\n",
      "280 epochs are processing : Loss 3253.0912\n",
      "290 epochs are processing : Loss 3249.2487\n",
      "300 epochs are processing : Loss 3245.4580\n",
      "310 epochs are processing : Loss 3241.7179\n",
      "320 epochs are processing : Loss 3238.0276\n",
      "330 epochs are processing : Loss 3234.3858\n",
      "340 epochs are processing : Loss 3230.7917\n",
      "350 epochs are processing : Loss 3227.2442\n",
      "360 epochs are processing : Loss 3223.7425\n",
      "370 epochs are processing : Loss 3220.2856\n",
      "380 epochs are processing : Loss 3216.8727\n",
      "390 epochs are processing : Loss 3213.5029\n",
      "400 epochs are processing : Loss 3210.1753\n",
      "410 epochs are processing : Loss 3206.8892\n",
      "420 epochs are processing : Loss 3203.6437\n",
      "430 epochs are processing : Loss 3200.4381\n",
      "440 epochs are processing : Loss 3197.2717\n",
      "450 epochs are processing : Loss 3194.1436\n",
      "460 epochs are processing : Loss 3191.0533\n",
      "470 epochs are processing : Loss 3188.0000\n",
      "480 epochs are processing : Loss 3184.9830\n",
      "490 epochs are processing : Loss 3182.0017\n",
      "500 epochs are processing : Loss 3179.0554\n",
      "510 epochs are processing : Loss 3176.1436\n",
      "520 epochs are processing : Loss 3173.2656\n",
      "530 epochs are processing : Loss 3170.4208\n",
      "540 epochs are processing : Loss 3167.6086\n",
      "550 epochs are processing : Loss 3164.8286\n",
      "560 epochs are processing : Loss 3162.0801\n",
      "570 epochs are processing : Loss 3159.3626\n",
      "580 epochs are processing : Loss 3156.6757\n",
      "590 epochs are processing : Loss 3154.0187\n",
      "600 epochs are processing : Loss 3151.3912\n",
      "610 epochs are processing : Loss 3148.7928\n",
      "620 epochs are processing : Loss 3146.2229\n",
      "630 epochs are processing : Loss 3143.6811\n",
      "640 epochs are processing : Loss 3141.1669\n",
      "650 epochs are processing : Loss 3138.6800\n",
      "660 epochs are processing : Loss 3136.2198\n",
      "670 epochs are processing : Loss 3133.7860\n",
      "680 epochs are processing : Loss 3131.3781\n",
      "690 epochs are processing : Loss 3128.9959\n",
      "700 epochs are processing : Loss 3126.6387\n",
      "710 epochs are processing : Loss 3124.3064\n",
      "720 epochs are processing : Loss 3121.9985\n",
      "730 epochs are processing : Loss 3119.7147\n",
      "740 epochs are processing : Loss 3117.4546\n",
      "750 epochs are processing : Loss 3115.2178\n",
      "760 epochs are processing : Loss 3113.0041\n",
      "770 epochs are processing : Loss 3110.8130\n",
      "780 epochs are processing : Loss 3108.6443\n",
      "790 epochs are processing : Loss 3106.4977\n",
      "800 epochs are processing : Loss 3104.3728\n",
      "810 epochs are processing : Loss 3102.2694\n",
      "820 epochs are processing : Loss 3100.1871\n",
      "830 epochs are processing : Loss 3098.1256\n",
      "840 epochs are processing : Loss 3096.0847\n",
      "850 epochs are processing : Loss 3094.0641\n",
      "860 epochs are processing : Loss 3092.0635\n",
      "870 epochs are processing : Loss 3090.0827\n",
      "880 epochs are processing : Loss 3088.1213\n",
      "890 epochs are processing : Loss 3086.1792\n",
      "900 epochs are processing : Loss 3084.2560\n",
      "910 epochs are processing : Loss 3082.3516\n",
      "920 epochs are processing : Loss 3080.4656\n",
      "930 epochs are processing : Loss 3078.5979\n",
      "940 epochs are processing : Loss 3076.7482\n",
      "950 epochs are processing : Loss 3074.9163\n",
      "960 epochs are processing : Loss 3073.1020\n",
      "970 epochs are processing : Loss 3071.3050\n",
      "980 epochs are processing : Loss 3069.5252\n",
      "990 epochs are processing : Loss 3067.7622\n",
      "1000 epochs are processing : Loss 3066.0160\n"
     ]
    }
   ],
   "source": [
    "epochs = 1000\n",
    "loss_list = []\n",
    "\n",
    "\n",
    "for i in range(1, epochs + 1):\n",
    "    # inference(prediction 값 얻음)\n",
    "    dW, db, pred_y = gradient(train_X, W, b, train_Y)\n",
    "    \n",
    "    W -= lr * dW\n",
    "    b -= lr * db\n",
    "    L = MSE(pred_y,train_Y)\n",
    "    loss_list.append(L)\n",
    "    if i % 10 == 0:\n",
    "        print(f\"{i} epochs are processing : Loss {L:0.4f}\")"
   ]
  },
  {
   "attachments": {},
   "cell_type": "markdown",
   "metadata": {},
   "source": [
    "### (10) test 데이터에 대한 성능 확인하기\n",
    "- test 데이터에 대한 성능을 확인해주세요.\n",
    "- (원래라면 평가 metric을 확인해야겠지만, loss를 이용해 근사하게 구현했음.)\n"
   ]
  },
  {
   "cell_type": "code",
   "execution_count": 13,
   "metadata": {},
   "outputs": [
    {
     "name": "stdout",
     "output_type": "stream",
     "text": [
      "validation Loss : 3318.7058\n"
     ]
    }
   ],
   "source": [
    "test_dW, test_db, pred_test_y = gradient(test_X, W, b, test_Y)\n",
    "test_L = MSE(pred_test_y,test_Y)\n",
    "print(f\"validation Loss : {test_L:0.4f}\")"
   ]
  },
  {
   "cell_type": "code",
   "execution_count": 19,
   "metadata": {},
   "outputs": [
    {
     "data": {
      "image/png": "[encoded data removed]",
      "text/plain": [
       "<Figure size 640x480 with 1 Axes>"
      ]
     },
     "metadata": {},
     "output_type": "display_data"
    }
   ],
   "source": [
    "import matplotlib.pyplot as plt\n",
    "\n",
    "target = test_Y\n",
    "prediction = pred_test_y\n",
    "\n",
    "# fig, ax = plt.subplot(figsize=(12, 5))\n",
    "plt.scatter(test_X[:, 0], target, label=\"True\")\n",
    "plt.scatter(test_X[:, 0], prediction, label=\"Pred\")\n",
    "for x,y_1, y_2 in zip(test_X[:, 0], target, prediction):\n",
    "    plt.plot([x, x], [y_1, y_2], color='magenta')\n",
    "plt.legend()\n",
    "plt.show()\n",
    "\n"
   ]
  },
  {
   "cell_type": "code",
   "execution_count": null,
   "metadata": {},
   "outputs": [],
   "source": []
  }
 ],
 "metadata": {
  "kernelspec": {
   "display_name": "Python 3",
   "language": "python",
   "name": "python3"
  },
  "language_info": {
   "codemirror_mode": {
    "name": "ipython",
    "version": 3
   },
   "file_extension": ".py",
   "mimetype": "text/x-python",
   "name": "python",
   "nbconvert_exporter": "python",
   "pygments_lexer": "ipython3",
   "version": "3.8.10"
  },
  "orig_nbformat": 4
 },
 "nbformat": 4,
 "nbformat_minor": 2
}
