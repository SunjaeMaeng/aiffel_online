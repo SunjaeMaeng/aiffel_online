{
  "cells": [
    {
      "cell_type": "markdown",
      "metadata": {
        "id": "fjJG1lKSRyeL"
      },
      "source": [
        "## 뉴스 기사 분류: 다중 분류 문제"
      ]
    },
    {
      "cell_type": "markdown",
      "metadata": {
        "id": "jGWt2Xp0RyeM"
      },
      "source": [
        "### 로이터 데이터셋"
      ]
    },
    {
      "cell_type": "markdown",
      "metadata": {
        "id": "jxiQdKzgRyeM"
      },
      "source": [
        "**로이터 데이터셋 로드하기**"
      ]
    },
    {
      "cell_type": "code",
      "execution_count": 1,
      "metadata": {},
      "outputs": [
        {
          "name": "stderr",
          "output_type": "stream",
          "text": [
            "2023-07-28 13:33:33.215708: I tensorflow/core/util/port.cc:110] oneDNN custom operations are on. You may see slightly different numerical results due to floating-point round-off errors from different computation orders. To turn them off, set the environment variable `TF_ENABLE_ONEDNN_OPTS=0`.\n",
            "2023-07-28 13:33:33.253658: I tensorflow/core/platform/cpu_feature_guard.cc:182] This TensorFlow binary is optimized to use available CPU instructions in performance-critical operations.\n",
            "To enable the following instructions: AVX2 AVX512F AVX512_VNNI FMA, in other operations, rebuild TensorFlow with the appropriate compiler flags.\n"
          ]
        }
      ],
      "source": [
        "from tensorflow.keras.datasets import reuters\n",
        "import numpy as np\n",
        "from tensorflow import keras\n",
        "from tensorflow.keras import layers\n",
        "import matplotlib.pyplot as plt"
      ]
    },
    {
      "cell_type": "code",
      "execution_count": 2,
      "metadata": {
        "colab": {
          "base_uri": "https://localhost:8080/"
        },
        "execution": {
          "iopub.execute_input": "2022-05-21T00:58:55.791733Z",
          "iopub.status.busy": "2022-05-21T00:58:55.790885Z",
          "iopub.status.idle": "2022-05-21T00:58:57.939572Z",
          "shell.execute_reply": "2022-05-21T00:58:57.938613Z"
        },
        "id": "8qf7A4Y5RyeM",
        "outputId": "ee7414c0-cc27-4463-927d-69e392d2d864"
      },
      "outputs": [],
      "source": [
        "(train_data, train_labels), (test_data, test_labels) = reuters.load_data(\n",
        "    num_words=10000)"
      ]
    },
    {
      "cell_type": "code",
      "execution_count": 3,
      "metadata": {
        "colab": {
          "base_uri": "https://localhost:8080/"
        },
        "execution": {
          "iopub.execute_input": "2022-05-21T00:58:57.945213Z",
          "iopub.status.busy": "2022-05-21T00:58:57.944384Z",
          "iopub.status.idle": "2022-05-21T00:58:57.949630Z",
          "shell.execute_reply": "2022-05-21T00:58:57.948847Z"
        },
        "id": "AQi1eT92RyeN",
        "outputId": "f7f2015f-1c3f-4146-c4f6-8ab7d4d10f41"
      },
      "outputs": [
        {
          "data": {
            "text/plain": [
              "8982"
            ]
          },
          "execution_count": 3,
          "metadata": {},
          "output_type": "execute_result"
        }
      ],
      "source": [
        "len(train_data)"
      ]
    },
    {
      "cell_type": "code",
      "execution_count": 4,
      "metadata": {
        "colab": {
          "base_uri": "https://localhost:8080/"
        },
        "execution": {
          "iopub.execute_input": "2022-05-21T00:58:57.953105Z",
          "iopub.status.busy": "2022-05-21T00:58:57.952847Z",
          "iopub.status.idle": "2022-05-21T00:58:57.957221Z",
          "shell.execute_reply": "2022-05-21T00:58:57.956497Z"
        },
        "id": "HdsaMadiRyeN",
        "outputId": "f7c83547-3cf8-494d-8d59-97d79cc94c9e"
      },
      "outputs": [
        {
          "data": {
            "text/plain": [
              "2246"
            ]
          },
          "execution_count": 4,
          "metadata": {},
          "output_type": "execute_result"
        }
      ],
      "source": [
        "len(test_data)"
      ]
    },
    {
      "cell_type": "code",
      "execution_count": 5,
      "metadata": {
        "colab": {
          "base_uri": "https://localhost:8080/"
        },
        "execution": {
          "iopub.execute_input": "2022-05-21T00:58:57.960663Z",
          "iopub.status.busy": "2022-05-21T00:58:57.960413Z",
          "iopub.status.idle": "2022-05-21T00:58:57.965646Z",
          "shell.execute_reply": "2022-05-21T00:58:57.964973Z"
        },
        "id": "FWjzpVJWRyeO",
        "outputId": "cefeb688-b09b-4563-b67b-2bc7f83c9f8e"
      },
      "outputs": [
        {
          "data": {
            "text/plain": [
              "[1,\n",
              " 245,\n",
              " 273,\n",
              " 207,\n",
              " 156,\n",
              " 53,\n",
              " 74,\n",
              " 160,\n",
              " 26,\n",
              " 14,\n",
              " 46,\n",
              " 296,\n",
              " 26,\n",
              " 39,\n",
              " 74,\n",
              " 2979,\n",
              " 3554,\n",
              " 14,\n",
              " 46,\n",
              " 4689,\n",
              " 4329,\n",
              " 86,\n",
              " 61,\n",
              " 3499,\n",
              " 4795,\n",
              " 14,\n",
              " 61,\n",
              " 451,\n",
              " 4329,\n",
              " 17,\n",
              " 12]"
            ]
          },
          "execution_count": 5,
          "metadata": {},
          "output_type": "execute_result"
        }
      ],
      "source": [
        "train_data[10]"
      ]
    },
    {
      "cell_type": "markdown",
      "metadata": {
        "id": "ou52UiQ2RyeO"
      },
      "source": [
        "**로이터 데이터셋을 텍스트로 디코딩하기**"
      ]
    },
    {
      "cell_type": "code",
      "execution_count": 6,
      "metadata": {
        "execution": {
          "iopub.execute_input": "2022-05-21T00:58:30.670103Z",
          "iopub.status.busy": "2022-05-21T00:58:30.669714Z",
          "iopub.status.idle": "2022-05-21T00:58:35.758749Z",
          "shell.execute_reply": "2022-05-21T00:58:35.757888Z"
        },
        "id": "J2YPggO4Ryd6"
      },
      "outputs": [],
      "source": [
        "def vectorize_sequences(sequences, dimension=10000):\n",
        "    results = np.zeros((len(sequences), dimension))\n",
        "    for i, sequence in enumerate(sequences):\n",
        "        for j in sequence:\n",
        "            results[i, j] = 1.\n",
        "    return results"
      ]
    },
    {
      "cell_type": "code",
      "execution_count": 7,
      "metadata": {
        "colab": {
          "base_uri": "https://localhost:8080/"
        },
        "execution": {
          "iopub.execute_input": "2022-05-21T00:58:57.969038Z",
          "iopub.status.busy": "2022-05-21T00:58:57.968769Z",
          "iopub.status.idle": "2022-05-21T00:58:58.606123Z",
          "shell.execute_reply": "2022-05-21T00:58:58.605366Z"
        },
        "id": "UhI3hCQvRyeO",
        "outputId": "f868a0a4-bcff-411b-ea32-18254c866682"
      },
      "outputs": [],
      "source": [
        "word_index = reuters.get_word_index()\n",
        "reverse_word_index = dict([(value, key) for (key, value) in word_index.items()])\n",
        "decoded_newswire = \" \".join([reverse_word_index.get(i - 3, \"?\") for i in\n",
        "    train_data[0]])"
      ]
    },
    {
      "cell_type": "code",
      "execution_count": 8,
      "metadata": {
        "colab": {
          "base_uri": "https://localhost:8080/"
        },
        "execution": {
          "iopub.execute_input": "2022-05-21T00:58:58.610817Z",
          "iopub.status.busy": "2022-05-21T00:58:58.609932Z",
          "iopub.status.idle": "2022-05-21T00:58:58.615565Z",
          "shell.execute_reply": "2022-05-21T00:58:58.614707Z"
        },
        "id": "_dX4yM26RyeO",
        "outputId": "e04f38d1-b6c0-4992-dad6-e4ab6d973ec5"
      },
      "outputs": [
        {
          "data": {
            "text/plain": [
              "3"
            ]
          },
          "execution_count": 8,
          "metadata": {},
          "output_type": "execute_result"
        }
      ],
      "source": [
        "train_labels[10]"
      ]
    },
    {
      "cell_type": "markdown",
      "metadata": {
        "id": "Qt1koPzGRyeP"
      },
      "source": [
        "### 데이터 준비"
      ]
    },
    {
      "cell_type": "markdown",
      "metadata": {
        "id": "bwQGYNQORyeP"
      },
      "source": [
        "**데이터 인코딩하기**"
      ]
    },
    {
      "cell_type": "code",
      "execution_count": 9,
      "metadata": {
        "execution": {
          "iopub.execute_input": "2022-05-21T00:58:58.619093Z",
          "iopub.status.busy": "2022-05-21T00:58:58.618809Z",
          "iopub.status.idle": "2022-05-21T00:58:58.993179Z",
          "shell.execute_reply": "2022-05-21T00:58:58.992334Z"
        },
        "id": "Z3QCG9WCRyeP"
      },
      "outputs": [],
      "source": [
        "x_train = vectorize_sequences(train_data)\n",
        "x_test = vectorize_sequences(test_data)"
      ]
    },
    {
      "cell_type": "markdown",
      "metadata": {
        "id": "fdQHSLwjRyeQ"
      },
      "source": [
        "**레이블 인코딩하기**"
      ]
    },
    {
      "cell_type": "code",
      "execution_count": 10,
      "metadata": {
        "execution": {
          "iopub.execute_input": "2022-05-21T00:58:58.998170Z",
          "iopub.status.busy": "2022-05-21T00:58:58.997459Z",
          "iopub.status.idle": "2022-05-21T00:58:59.006393Z",
          "shell.execute_reply": "2022-05-21T00:58:59.005391Z"
        },
        "id": "S-E6ROygRyeQ"
      },
      "outputs": [],
      "source": [
        "def to_one_hot(labels, dimension=46):\n",
        "    results = np.zeros((len(labels), dimension))\n",
        "    for i, label in enumerate(labels):\n",
        "        results[i, label] = 1.\n",
        "    return results\n",
        "y_train = to_one_hot(train_labels)\n",
        "y_test = to_one_hot(test_labels)"
      ]
    },
    {
      "cell_type": "code",
      "execution_count": 11,
      "metadata": {
        "execution": {
          "iopub.execute_input": "2022-05-21T00:58:59.010347Z",
          "iopub.status.busy": "2022-05-21T00:58:59.010045Z",
          "iopub.status.idle": "2022-05-21T00:58:59.015326Z",
          "shell.execute_reply": "2022-05-21T00:58:59.014567Z"
        },
        "id": "I-7VmPp0RyeQ"
      },
      "outputs": [],
      "source": [
        "from tensorflow.keras.utils import to_categorical\n",
        "# tensorflow.keras.utils.to_categorical : 클래스 레이블을 원-핫 인코딩 벡터로 변환하는 함수\n",
        "y_train = to_categorical(train_labels)\n",
        "y_test = to_categorical(test_labels)"
      ]
    },
    {
      "cell_type": "markdown",
      "metadata": {
        "id": "7CVrNaGrRyeQ"
      },
      "source": [
        "### 모델 구성"
      ]
    },
    {
      "cell_type": "markdown",
      "metadata": {
        "id": "uv-3olCoRyeR"
      },
      "source": [
        "**모델 정의하기**"
      ]
    },
    {
      "cell_type": "code",
      "execution_count": 12,
      "metadata": {
        "execution": {
          "iopub.execute_input": "2022-05-21T00:58:59.019228Z",
          "iopub.status.busy": "2022-05-21T00:58:59.018698Z",
          "iopub.status.idle": "2022-05-21T00:58:59.027548Z",
          "shell.execute_reply": "2022-05-21T00:58:59.026784Z"
        },
        "id": "sLqB1E6MRyeR"
      },
      "outputs": [
        {
          "name": "stderr",
          "output_type": "stream",
          "text": [
            "2023-07-28 13:33:36.477237: I tensorflow/core/common_runtime/gpu/gpu_device.cc:1635] Created device /job:localhost/replica:0/task:0/device:GPU:0 with 8035 MB memory:  -> device: 0, name: NVIDIA GeForce RTX 3080, pci bus id: 0000:1a:00.0, compute capability: 8.6\n"
          ]
        }
      ],
      "source": [
        "model = keras.Sequential([\n",
        "    layers.Dense(64, activation=\"relu\"),\n",
        "    layers.Dense(64, activation=\"relu\"),\n",
        "    layers.Dense(46, activation=\"softmax\")\n",
        "])"
      ]
    },
    {
      "cell_type": "markdown",
      "metadata": {
        "id": "guMVZpUNRyeR"
      },
      "source": [
        "**모델 컴파일하기**"
      ]
    },
    {
      "cell_type": "code",
      "execution_count": 13,
      "metadata": {
        "execution": {
          "iopub.execute_input": "2022-05-21T00:58:59.031190Z",
          "iopub.status.busy": "2022-05-21T00:58:59.030669Z",
          "iopub.status.idle": "2022-05-21T00:58:59.039143Z",
          "shell.execute_reply": "2022-05-21T00:58:59.038300Z"
        },
        "id": "YXWBBKnPRyeY"
      },
      "outputs": [],
      "source": [
        "model.compile(optimizer=\"rmsprop\",\n",
        "              loss=\"categorical_crossentropy\",\n",
        "              metrics=[\"accuracy\"])"
      ]
    },
    {
      "cell_type": "markdown",
      "metadata": {
        "id": "QwUx1dQ_RyeY"
      },
      "source": [
        "### 훈련 검증"
      ]
    },
    {
      "cell_type": "markdown",
      "metadata": {
        "id": "cOeH0p6lRyeZ"
      },
      "source": [
        "**검증 세트 준비하기**"
      ]
    },
    {
      "cell_type": "code",
      "execution_count": 14,
      "metadata": {
        "execution": {
          "iopub.execute_input": "2022-05-21T00:58:59.043039Z",
          "iopub.status.busy": "2022-05-21T00:58:59.042528Z",
          "iopub.status.idle": "2022-05-21T00:58:59.047024Z",
          "shell.execute_reply": "2022-05-21T00:58:59.046046Z"
        },
        "id": "wqLWYJVlRyeZ"
      },
      "outputs": [],
      "source": [
        "x_val = x_train[:1000]\n",
        "partial_x_train = x_train[1000:]\n",
        "y_val = y_train[:1000]\n",
        "partial_y_train = y_train[1000:]"
      ]
    },
    {
      "cell_type": "markdown",
      "metadata": {
        "id": "tIRPgk9zRyeZ"
      },
      "source": [
        "**모델 훈련하기**"
      ]
    },
    {
      "cell_type": "code",
      "execution_count": 15,
      "metadata": {
        "colab": {
          "base_uri": "https://localhost:8080/"
        },
        "execution": {
          "iopub.execute_input": "2022-05-21T00:58:59.050590Z",
          "iopub.status.busy": "2022-05-21T00:58:59.050211Z",
          "iopub.status.idle": "2022-05-21T00:59:10.041884Z",
          "shell.execute_reply": "2022-05-21T00:59:10.040973Z"
        },
        "id": "aIGzzDunRyeZ",
        "outputId": "45a4b580-71ce-485d-b29a-889d6368f175"
      },
      "outputs": [
        {
          "name": "stdout",
          "output_type": "stream",
          "text": [
            "Epoch 1/20\n"
          ]
        },
        {
          "name": "stderr",
          "output_type": "stream",
          "text": [
            "2023-07-28 13:33:38.270510: I tensorflow/compiler/xla/stream_executor/cuda/cuda_blas.cc:637] TensorFloat-32 will be used for the matrix multiplication. This will only be logged once.\n",
            "2023-07-28 13:33:38.272528: I tensorflow/compiler/xla/service/service.cc:169] XLA service 0x7f7661129f70 initialized for platform CUDA (this does not guarantee that XLA will be used). Devices:\n",
            "2023-07-28 13:33:38.272549: I tensorflow/compiler/xla/service/service.cc:177]   StreamExecutor device (0): NVIDIA GeForce RTX 3080, Compute Capability 8.6\n",
            "2023-07-28 13:33:38.275734: I tensorflow/compiler/mlir/tensorflow/utils/dump_mlir_util.cc:269] disabling MLIR crash reproducer, set env var `MLIR_CRASH_REPRODUCER_DIRECTORY` to enable.\n",
            "2023-07-28 13:33:39.475343: I tensorflow/compiler/xla/stream_executor/cuda/cuda_dnn.cc:424] Loaded cuDNN version 8902\n",
            "2023-07-28 13:33:39.516865: I tensorflow/tsl/platform/default/subprocess.cc:304] Start cannot spawn child process: No such file or directory\n",
            "2023-07-28 13:33:39.594873: I ./tensorflow/compiler/jit/device_compiler.h:180] Compiled cluster using XLA!  This line is logged at most once for the lifetime of the process.\n"
          ]
        },
        {
          "name": "stdout",
          "output_type": "stream",
          "text": [
            "16/16 [==============================] - 3s 23ms/step - loss: 2.8255 - accuracy: 0.4970 - val_loss: 1.9066 - val_accuracy: 0.6110\n",
            "Epoch 2/20\n",
            "16/16 [==============================] - 0s 12ms/step - loss: 1.5859 - accuracy: 0.6765 - val_loss: 1.4028 - val_accuracy: 0.6920\n",
            "Epoch 3/20\n",
            "16/16 [==============================] - 0s 12ms/step - loss: 1.2040 - accuracy: 0.7398 - val_loss: 1.2126 - val_accuracy: 0.7480\n",
            "Epoch 4/20\n",
            "16/16 [==============================] - 0s 11ms/step - loss: 0.9817 - accuracy: 0.7944 - val_loss: 1.1121 - val_accuracy: 0.7780\n",
            "Epoch 5/20\n",
            "16/16 [==============================] - 0s 12ms/step - loss: 0.8108 - accuracy: 0.8315 - val_loss: 1.0369 - val_accuracy: 0.7820\n",
            "Epoch 6/20\n",
            "16/16 [==============================] - 0s 12ms/step - loss: 0.6819 - accuracy: 0.8562 - val_loss: 0.9744 - val_accuracy: 0.7830\n",
            "Epoch 7/20\n",
            "16/16 [==============================] - 0s 12ms/step - loss: 0.5728 - accuracy: 0.8766 - val_loss: 0.9254 - val_accuracy: 0.8090\n",
            "Epoch 8/20\n",
            "16/16 [==============================] - 0s 12ms/step - loss: 0.4850 - accuracy: 0.8963 - val_loss: 0.9550 - val_accuracy: 0.7880\n",
            "Epoch 9/20\n",
            "16/16 [==============================] - 0s 12ms/step - loss: 0.4097 - accuracy: 0.9138 - val_loss: 0.8788 - val_accuracy: 0.8080\n",
            "Epoch 10/20\n",
            "16/16 [==============================] - 0s 12ms/step - loss: 0.3545 - accuracy: 0.9256 - val_loss: 0.9168 - val_accuracy: 0.7970\n",
            "Epoch 11/20\n",
            "16/16 [==============================] - 0s 13ms/step - loss: 0.3106 - accuracy: 0.9331 - val_loss: 0.8675 - val_accuracy: 0.8160\n",
            "Epoch 12/20\n",
            "16/16 [==============================] - 0s 12ms/step - loss: 0.2652 - accuracy: 0.9410 - val_loss: 0.8754 - val_accuracy: 0.8160\n",
            "Epoch 13/20\n",
            "16/16 [==============================] - 0s 11ms/step - loss: 0.2330 - accuracy: 0.9486 - val_loss: 0.9013 - val_accuracy: 0.8120\n",
            "Epoch 14/20\n",
            "16/16 [==============================] - 0s 11ms/step - loss: 0.2126 - accuracy: 0.9485 - val_loss: 0.9406 - val_accuracy: 0.7980\n",
            "Epoch 15/20\n",
            "16/16 [==============================] - 0s 11ms/step - loss: 0.1889 - accuracy: 0.9529 - val_loss: 0.9127 - val_accuracy: 0.8130\n",
            "Epoch 16/20\n",
            "16/16 [==============================] - 0s 11ms/step - loss: 0.1734 - accuracy: 0.9536 - val_loss: 0.9093 - val_accuracy: 0.8100\n",
            "Epoch 17/20\n",
            "16/16 [==============================] - 0s 13ms/step - loss: 0.1630 - accuracy: 0.9549 - val_loss: 0.9910 - val_accuracy: 0.8120\n",
            "Epoch 18/20\n",
            "16/16 [==============================] - 0s 12ms/step - loss: 0.1503 - accuracy: 0.9558 - val_loss: 0.9696 - val_accuracy: 0.8140\n",
            "Epoch 19/20\n",
            "16/16 [==============================] - 0s 10ms/step - loss: 0.1429 - accuracy: 0.9564 - val_loss: 0.9432 - val_accuracy: 0.8080\n",
            "Epoch 20/20\n",
            "16/16 [==============================] - 0s 12ms/step - loss: 0.1387 - accuracy: 0.9573 - val_loss: 0.9556 - val_accuracy: 0.8120\n"
          ]
        }
      ],
      "source": [
        "history = model.fit(partial_x_train,\n",
        "                    partial_y_train,\n",
        "                    epochs=20,\n",
        "                    batch_size=512,\n",
        "                    validation_data=(x_val, y_val))"
      ]
    },
    {
      "cell_type": "markdown",
      "metadata": {
        "id": "IgfzW_8qRyea"
      },
      "source": [
        "**훈련과 검증 손실 그리기**"
      ]
    },
    {
      "cell_type": "code",
      "execution_count": 16,
      "metadata": {
        "colab": {
          "base_uri": "https://localhost:8080/",
          "height": 295
        },
        "execution": {
          "iopub.execute_input": "2022-05-21T00:59:10.046902Z",
          "iopub.status.busy": "2022-05-21T00:59:10.045757Z",
          "iopub.status.idle": "2022-05-21T00:59:10.179653Z",
          "shell.execute_reply": "2022-05-21T00:59:10.178584Z"
        },
        "id": "SVm8Pe36Ryea",
        "outputId": "57221de9-5743-4e5a-d9ab-7e39caa4a1b4"
      },
      "outputs": [
        {
          "data": {
            "image/png": "[encoded data removed]",
            "text/plain": [
              "<Figure size 640x480 with 1 Axes>"
            ]
          },
          "metadata": {},
          "output_type": "display_data"
        }
      ],
      "source": [
        "loss = history.history[\"loss\"]\n",
        "val_loss = history.history[\"val_loss\"]\n",
        "epochs = range(1, len(loss) + 1)\n",
        "plt.plot(epochs, loss, \"bo\", label=\"Training loss\")\n",
        "plt.plot(epochs, val_loss, \"b\", label=\"Validation loss\")\n",
        "plt.title(\"Training and validation loss\")\n",
        "plt.xlabel(\"Epochs\")\n",
        "plt.ylabel(\"Loss\")\n",
        "plt.legend()\n",
        "plt.show()"
      ]
    },
    {
      "cell_type": "markdown",
      "metadata": {
        "id": "rqBSs9lwRyea"
      },
      "source": [
        "**훈련과 검증 정확도 그리기**"
      ]
    },
    {
      "cell_type": "code",
      "execution_count": 17,
      "metadata": {
        "colab": {
          "base_uri": "https://localhost:8080/",
          "height": 295
        },
        "execution": {
          "iopub.execute_input": "2022-05-21T00:59:10.183642Z",
          "iopub.status.busy": "2022-05-21T00:59:10.183348Z",
          "iopub.status.idle": "2022-05-21T00:59:10.318032Z",
          "shell.execute_reply": "2022-05-21T00:59:10.317232Z"
        },
        "id": "SNmU0tPzRyeb",
        "outputId": "4e800f19-a62c-4672-8ab5-09755d4aa823"
      },
      "outputs": [
        {
          "data": {
            "image/png": "[encoded data removed]",
            "text/plain": [
              "<Figure size 640x480 with 1 Axes>"
            ]
          },
          "metadata": {},
          "output_type": "display_data"
        }
      ],
      "source": [
        "plt.clf()\n",
        "acc = history.history[\"accuracy\"]\n",
        "val_acc = history.history[\"val_accuracy\"]\n",
        "plt.plot(epochs, acc, \"bo\", label=\"Training accuracy\")\n",
        "plt.plot(epochs, val_acc, \"b\", label=\"Validation accuracy\")\n",
        "plt.title(\"Training and validation accuracy\")\n",
        "plt.xlabel(\"Epochs\")\n",
        "plt.ylabel(\"Accuracy\")\n",
        "plt.legend()\n",
        "plt.show()"
      ]
    },
    {
      "cell_type": "markdown",
      "metadata": {
        "id": "QIGN5jk2Ryeb"
      },
      "source": [
        "**모델을 처음부터 다시 훈련하기**"
      ]
    },
    {
      "cell_type": "code",
      "execution_count": 18,
      "metadata": {
        "colab": {
          "base_uri": "https://localhost:8080/"
        },
        "execution": {
          "iopub.execute_input": "2022-05-21T00:59:10.321952Z",
          "iopub.status.busy": "2022-05-21T00:59:10.321440Z",
          "iopub.status.idle": "2022-05-21T00:59:13.836469Z",
          "shell.execute_reply": "2022-05-21T00:59:13.835680Z"
        },
        "id": "DUaioa29Ryeb",
        "outputId": "d4191163-4a60-4d5b-8498-b3045ff8e983"
      },
      "outputs": [
        {
          "name": "stdout",
          "output_type": "stream",
          "text": [
            "Epoch 1/9\n",
            "18/18 [==============================] - 1s 8ms/step - loss: 2.5803 - accuracy: 0.5040\n",
            "Epoch 2/9\n",
            "18/18 [==============================] - 0s 9ms/step - loss: 1.4551 - accuracy: 0.6909\n",
            "Epoch 3/9\n",
            "18/18 [==============================] - 0s 9ms/step - loss: 1.1202 - accuracy: 0.7594\n",
            "Epoch 4/9\n",
            "18/18 [==============================] - 0s 8ms/step - loss: 0.9192 - accuracy: 0.8068\n",
            "Epoch 5/9\n",
            "18/18 [==============================] - 0s 9ms/step - loss: 0.7655 - accuracy: 0.8369\n",
            "Epoch 6/9\n",
            "18/18 [==============================] - 0s 7ms/step - loss: 0.6384 - accuracy: 0.8621\n",
            "Epoch 7/9\n",
            "18/18 [==============================] - 0s 7ms/step - loss: 0.5338 - accuracy: 0.8830\n",
            "Epoch 8/9\n",
            "18/18 [==============================] - 0s 9ms/step - loss: 0.4489 - accuracy: 0.9016\n",
            "Epoch 9/9\n",
            "18/18 [==============================] - 0s 8ms/step - loss: 0.3837 - accuracy: 0.9181\n",
            "71/71 [==============================] - 0s 3ms/step - loss: 0.8899 - accuracy: 0.7965\n"
          ]
        }
      ],
      "source": [
        "model = keras.Sequential([\n",
        "  layers.Dense(64, activation=\"relu\"),\n",
        "  layers.Dense(64, activation=\"relu\"),\n",
        "  layers.Dense(46, activation=\"softmax\")\n",
        "])\n",
        "model.compile(optimizer=\"rmsprop\",\n",
        "              loss=\"categorical_crossentropy\",\n",
        "              metrics=[\"accuracy\"])\n",
        "model.fit(x_train,\n",
        "          y_train,\n",
        "          epochs=9,\n",
        "          batch_size=512)\n",
        "results = model.evaluate(x_test, y_test)"
      ]
    },
    {
      "cell_type": "code",
      "execution_count": 19,
      "metadata": {
        "colab": {
          "base_uri": "https://localhost:8080/"
        },
        "execution": {
          "iopub.execute_input": "2022-05-21T00:59:13.840276Z",
          "iopub.status.busy": "2022-05-21T00:59:13.839752Z",
          "iopub.status.idle": "2022-05-21T00:59:13.845156Z",
          "shell.execute_reply": "2022-05-21T00:59:13.844286Z"
        },
        "id": "8Uvx5UfiRyec",
        "outputId": "58f24210-fd8f-4d17-f6bc-6491bbc140a1"
      },
      "outputs": [
        {
          "data": {
            "text/plain": [
              "[0.8898583650588989, 0.7965271472930908]"
            ]
          },
          "execution_count": 19,
          "metadata": {},
          "output_type": "execute_result"
        }
      ],
      "source": [
        "results"
      ]
    },
    {
      "cell_type": "code",
      "execution_count": 20,
      "metadata": {
        "colab": {
          "base_uri": "https://localhost:8080/"
        },
        "execution": {
          "iopub.execute_input": "2022-05-21T00:59:13.848602Z",
          "iopub.status.busy": "2022-05-21T00:59:13.848317Z",
          "iopub.status.idle": "2022-05-21T00:59:13.854235Z",
          "shell.execute_reply": "2022-05-21T00:59:13.853462Z"
        },
        "id": "wiZnDW9HRyed",
        "outputId": "998a0c4e-48bf-4c89-fa46-3ccf582c9c8f"
      },
      "outputs": [
        {
          "data": {
            "text/plain": [
              "0.1892252894033838"
            ]
          },
          "execution_count": 20,
          "metadata": {},
          "output_type": "execute_result"
        }
      ],
      "source": [
        "import copy\n",
        "test_labels_copy = copy.copy(test_labels)\n",
        "np.random.shuffle(test_labels_copy)\n",
        "hits_array = np.array(test_labels) == np.array(test_labels_copy)\n",
        "hits_array.mean()"
      ]
    },
    {
      "cell_type": "markdown",
      "metadata": {
        "id": "Zt0QjrLiRyed"
      },
      "source": [
        "### 새로운 데이터로 예측하기"
      ]
    },
    {
      "cell_type": "code",
      "execution_count": 21,
      "metadata": {
        "colab": {
          "base_uri": "https://localhost:8080/"
        },
        "execution": {
          "iopub.execute_input": "2022-05-21T00:59:13.858027Z",
          "iopub.status.busy": "2022-05-21T00:59:13.857648Z",
          "iopub.status.idle": "2022-05-21T00:59:14.132815Z",
          "shell.execute_reply": "2022-05-21T00:59:14.131779Z"
        },
        "id": "1rBJrITPRyee",
        "outputId": "120f1b2a-0d94-4804-f301-a1986d731f02"
      },
      "outputs": [
        {
          "name": "stdout",
          "output_type": "stream",
          "text": [
            "71/71 [==============================] - 0s 2ms/step\n"
          ]
        }
      ],
      "source": [
        "predictions = model.predict(x_test)"
      ]
    },
    {
      "cell_type": "code",
      "execution_count": 22,
      "metadata": {
        "colab": {
          "base_uri": "https://localhost:8080/"
        },
        "execution": {
          "iopub.execute_input": "2022-05-21T00:59:14.137393Z",
          "iopub.status.busy": "2022-05-21T00:59:14.136780Z",
          "iopub.status.idle": "2022-05-21T00:59:14.143161Z",
          "shell.execute_reply": "2022-05-21T00:59:14.142127Z"
        },
        "id": "oJm0-6OsRyee",
        "outputId": "d582093c-c99f-42a6-dc3c-76907cfac225"
      },
      "outputs": [
        {
          "data": {
            "text/plain": [
              "(46,)"
            ]
          },
          "execution_count": 22,
          "metadata": {},
          "output_type": "execute_result"
        }
      ],
      "source": [
        "predictions[0].shape"
      ]
    },
    {
      "cell_type": "code",
      "execution_count": 23,
      "metadata": {
        "colab": {
          "base_uri": "https://localhost:8080/"
        },
        "execution": {
          "iopub.execute_input": "2022-05-21T00:59:14.147504Z",
          "iopub.status.busy": "2022-05-21T00:59:14.146927Z",
          "iopub.status.idle": "2022-05-21T00:59:14.152400Z",
          "shell.execute_reply": "2022-05-21T00:59:14.151516Z"
        },
        "id": "iUAzDrwWRyef",
        "outputId": "4c734172-204a-4046-daa6-37dacbb5357f"
      },
      "outputs": [
        {
          "data": {
            "text/plain": [
              "1.0000002"
            ]
          },
          "execution_count": 23,
          "metadata": {},
          "output_type": "execute_result"
        }
      ],
      "source": [
        "np.sum(predictions[0])"
      ]
    },
    {
      "cell_type": "code",
      "execution_count": 24,
      "metadata": {
        "colab": {
          "base_uri": "https://localhost:8080/"
        },
        "execution": {
          "iopub.execute_input": "2022-05-21T00:59:14.155905Z",
          "iopub.status.busy": "2022-05-21T00:59:14.155423Z",
          "iopub.status.idle": "2022-05-21T00:59:14.161331Z",
          "shell.execute_reply": "2022-05-21T00:59:14.160581Z"
        },
        "id": "fTJBpMyrRyef",
        "outputId": "0d6deb61-c0f8-46e5-b79a-9583bec77215"
      },
      "outputs": [
        {
          "data": {
            "text/plain": [
              "3"
            ]
          },
          "execution_count": 24,
          "metadata": {},
          "output_type": "execute_result"
        }
      ],
      "source": [
        "np.argmax(predictions[0])"
      ]
    },
    {
      "cell_type": "markdown",
      "metadata": {
        "id": "7BVjZPk3Ryef"
      },
      "source": [
        "### 레이블과 손실을 다루는 다른 방법"
      ]
    },
    {
      "cell_type": "code",
      "execution_count": 25,
      "metadata": {
        "execution": {
          "iopub.execute_input": "2022-05-21T00:59:14.165413Z",
          "iopub.status.busy": "2022-05-21T00:59:14.164794Z",
          "iopub.status.idle": "2022-05-21T00:59:14.169329Z",
          "shell.execute_reply": "2022-05-21T00:59:14.168565Z"
        },
        "id": "eU3w1wAtRyef"
      },
      "outputs": [],
      "source": [
        "y_train = np.array(train_labels)\n",
        "y_test = np.array(test_labels)"
      ]
    },
    {
      "cell_type": "code",
      "execution_count": 26,
      "metadata": {
        "execution": {
          "iopub.execute_input": "2022-05-21T00:59:14.173213Z",
          "iopub.status.busy": "2022-05-21T00:59:14.172609Z",
          "iopub.status.idle": "2022-05-21T00:59:14.181387Z",
          "shell.execute_reply": "2022-05-21T00:59:14.180511Z"
        },
        "id": "sUHGzOpeRyeg"
      },
      "outputs": [],
      "source": [
        "model.compile(optimizer=\"rmsprop\",\n",
        "              loss=\"sparse_categorical_crossentropy\",\n",
        "              metrics=[\"accuracy\"])"
      ]
    },
    {
      "cell_type": "markdown",
      "metadata": {
        "id": "xoB6YZbLRyeh"
      },
      "source": [
        "### 충분히 큰 중간 층을 두어야 하는 이유"
      ]
    },
    {
      "cell_type": "markdown",
      "metadata": {
        "id": "L1OwV1cfRyeh"
      },
      "source": [
        "**정보 병목이 있는 모델**"
      ]
    },
    {
      "cell_type": "code",
      "execution_count": 27,
      "metadata": {
        "colab": {
          "base_uri": "https://localhost:8080/"
        },
        "execution": {
          "iopub.execute_input": "2022-05-21T00:59:14.185530Z",
          "iopub.status.busy": "2022-05-21T00:59:14.185022Z",
          "iopub.status.idle": "2022-05-21T00:59:24.040585Z",
          "shell.execute_reply": "2022-05-21T00:59:24.039588Z"
        },
        "id": "E-_EV7p4Ryei",
        "outputId": "20182ad8-2edd-436d-b4b9-29490766b0b5"
      },
      "outputs": [
        {
          "name": "stdout",
          "output_type": "stream",
          "text": [
            "Epoch 1/20\n",
            "63/63 [==============================] - 1s 8ms/step - loss: 2.8441 - accuracy: 0.2675 - val_loss: 2.2458 - val_accuracy: 0.3750\n",
            "Epoch 2/20\n",
            "63/63 [==============================] - 0s 6ms/step - loss: 1.9993 - accuracy: 0.4318 - val_loss: 1.7968 - val_accuracy: 0.5600\n",
            "Epoch 3/20\n",
            "63/63 [==============================] - 0s 7ms/step - loss: 1.5875 - accuracy: 0.5920 - val_loss: 1.5586 - val_accuracy: 0.6230\n",
            "Epoch 4/20\n",
            "63/63 [==============================] - 0s 7ms/step - loss: 1.3724 - accuracy: 0.6393 - val_loss: 1.4562 - val_accuracy: 0.6350\n",
            "Epoch 5/20\n",
            "63/63 [==============================] - 0s 7ms/step - loss: 1.2577 - accuracy: 0.6540 - val_loss: 1.4237 - val_accuracy: 0.6400\n",
            "Epoch 6/20\n",
            "63/63 [==============================] - 0s 7ms/step - loss: 1.1721 - accuracy: 0.6570 - val_loss: 1.3793 - val_accuracy: 0.6550\n",
            "Epoch 7/20\n",
            "63/63 [==============================] - 0s 6ms/step - loss: 1.0979 - accuracy: 0.6923 - val_loss: 1.3607 - val_accuracy: 0.6750\n",
            "Epoch 8/20\n",
            "63/63 [==============================] - 0s 6ms/step - loss: 1.0339 - accuracy: 0.7130 - val_loss: 1.3572 - val_accuracy: 0.6750\n",
            "Epoch 9/20\n",
            "63/63 [==============================] - 0s 7ms/step - loss: 0.9799 - accuracy: 0.7230 - val_loss: 1.3607 - val_accuracy: 0.6810\n",
            "Epoch 10/20\n",
            "63/63 [==============================] - 0s 6ms/step - loss: 0.9348 - accuracy: 0.7360 - val_loss: 1.3533 - val_accuracy: 0.6830\n",
            "Epoch 11/20\n",
            "63/63 [==============================] - 0s 6ms/step - loss: 0.8961 - accuracy: 0.7429 - val_loss: 1.3893 - val_accuracy: 0.6880\n",
            "Epoch 12/20\n",
            "63/63 [==============================] - 0s 6ms/step - loss: 0.8628 - accuracy: 0.7552 - val_loss: 1.4054 - val_accuracy: 0.6950\n",
            "Epoch 13/20\n",
            "63/63 [==============================] - 0s 6ms/step - loss: 0.8303 - accuracy: 0.7653 - val_loss: 1.4096 - val_accuracy: 0.7010\n",
            "Epoch 14/20\n",
            "63/63 [==============================] - 0s 7ms/step - loss: 0.8032 - accuracy: 0.7771 - val_loss: 1.4585 - val_accuracy: 0.7030\n",
            "Epoch 15/20\n",
            "63/63 [==============================] - 0s 7ms/step - loss: 0.7791 - accuracy: 0.7839 - val_loss: 1.4692 - val_accuracy: 0.7010\n",
            "Epoch 16/20\n",
            "63/63 [==============================] - 0s 7ms/step - loss: 0.7570 - accuracy: 0.7864 - val_loss: 1.5089 - val_accuracy: 0.6970\n",
            "Epoch 17/20\n",
            "63/63 [==============================] - 0s 6ms/step - loss: 0.7379 - accuracy: 0.7879 - val_loss: 1.5287 - val_accuracy: 0.7030\n",
            "Epoch 18/20\n",
            "63/63 [==============================] - 0s 6ms/step - loss: 0.7212 - accuracy: 0.7918 - val_loss: 1.5237 - val_accuracy: 0.6940\n",
            "Epoch 19/20\n",
            "63/63 [==============================] - 0s 5ms/step - loss: 0.7003 - accuracy: 0.7948 - val_loss: 1.5934 - val_accuracy: 0.6960\n",
            "Epoch 20/20\n",
            "63/63 [==============================] - 0s 6ms/step - loss: 0.6891 - accuracy: 0.7937 - val_loss: 1.6432 - val_accuracy: 0.6950\n"
          ]
        },
        {
          "data": {
            "text/plain": [
              "<keras.callbacks.History at 0x7f7b1afd81c0>"
            ]
          },
          "execution_count": 27,
          "metadata": {},
          "output_type": "execute_result"
        }
      ],
      "source": [
        "model = keras.Sequential([\n",
        "    layers.Dense(64, activation=\"relu\"),\n",
        "    layers.Dense(4, activation=\"relu\"),\n",
        "    layers.Dense(46, activation=\"softmax\")\n",
        "])\n",
        "model.compile(optimizer=\"rmsprop\",\n",
        "              loss=\"categorical_crossentropy\",\n",
        "              metrics=[\"accuracy\"])\n",
        "model.fit(partial_x_train,\n",
        "          partial_y_train,\n",
        "          epochs=20,\n",
        "          batch_size=128,\n",
        "          validation_data=(x_val, y_val))"
      ]
    },
    {
      "cell_type": "code",
      "execution_count": 7,
      "metadata": {},
      "outputs": [
        {
          "name": "stdout",
          "output_type": "stream",
          "text": [
            "(100,) (100,) 0 1\n",
            "(100,) (100,) 0 2\n",
            "(100,) (100,) 0 3\n",
            "(100,) (100,) 0 4\n",
            "(100,) (100,) 1 2\n",
            "(100,) (100,) 1 3\n",
            "(100,) (100,) 1 4\n",
            "(100,) (100,) 2 3\n",
            "(100,) (100,) 2 4\n",
            "(100,) (100,) 3 4\n"
          ]
        },
        {
          "name": "stderr",
          "output_type": "stream",
          "text": [
            "/root/.local/lib/python3.8/site-packages/IPython/core/pylabtools.py:152: UserWarning: Glyph 51452 (\\N{HANGUL SYLLABLE JU}) missing from current font.\n",
            "  fig.canvas.print_figure(bytes_io, **kw)\n",
            "/root/.local/lib/python3.8/site-packages/IPython/core/pylabtools.py:152: UserWarning: Glyph 49457 (\\N{HANGUL SYLLABLE SEONG}) missing from current font.\n",
            "  fig.canvas.print_figure(bytes_io, **kw)\n",
            "/root/.local/lib/python3.8/site-packages/IPython/core/pylabtools.py:152: UserWarning: Glyph 48516 (\\N{HANGUL SYLLABLE BUN}) missing from current font.\n",
            "  fig.canvas.print_figure(bytes_io, **kw)\n",
            "/root/.local/lib/python3.8/site-packages/IPython/core/pylabtools.py:152: UserWarning: Glyph 50752 (\\N{HANGUL SYLLABLE WA}) missing from current font.\n",
            "  fig.canvas.print_figure(bytes_io, **kw)\n",
            "/root/.local/lib/python3.8/site-packages/IPython/core/pylabtools.py:152: UserWarning: Glyph 53364 (\\N{HANGUL SYLLABLE KEUL}) missing from current font.\n",
            "  fig.canvas.print_figure(bytes_io, **kw)\n",
            "/root/.local/lib/python3.8/site-packages/IPython/core/pylabtools.py:152: UserWarning: Glyph 47000 (\\N{HANGUL SYLLABLE RAE}) missing from current font.\n",
            "  fig.canvas.print_figure(bytes_io, **kw)\n",
            "/root/.local/lib/python3.8/site-packages/IPython/core/pylabtools.py:152: UserWarning: Glyph 49828 (\\N{HANGUL SYLLABLE SEU}) missing from current font.\n",
            "  fig.canvas.print_figure(bytes_io, **kw)\n",
            "/root/.local/lib/python3.8/site-packages/IPython/core/pylabtools.py:152: UserWarning: Glyph 51060 (\\N{HANGUL SYLLABLE I}) missing from current font.\n",
            "  fig.canvas.print_figure(bytes_io, **kw)\n",
            "/root/.local/lib/python3.8/site-packages/IPython/core/pylabtools.py:152: UserWarning: Glyph 54616 (\\N{HANGUL SYLLABLE HA}) missing from current font.\n",
            "  fig.canvas.print_figure(bytes_io, **kw)\n",
            "/root/.local/lib/python3.8/site-packages/IPython/core/pylabtools.py:152: UserWarning: Glyph 45716 (\\N{HANGUL SYLLABLE NEUN}) missing from current font.\n",
            "  fig.canvas.print_figure(bytes_io, **kw)\n",
            "/root/.local/lib/python3.8/site-packages/IPython/core/pylabtools.py:152: UserWarning: Glyph 51649 (\\N{HANGUL SYLLABLE JIG}) missing from current font.\n",
            "  fig.canvas.print_figure(bytes_io, **kw)\n",
            "/root/.local/lib/python3.8/site-packages/IPython/core/pylabtools.py:152: UserWarning: Glyph 49440 (\\N{HANGUL SYLLABLE SEON}) missing from current font.\n",
            "  fig.canvas.print_figure(bytes_io, **kw)\n"
          ]
        },
        {
          "data": {
            "image/png": "[encoded data removed]",
            "text/plain": [
              "<Figure size 640x480 with 2 Axes>"
            ]
          },
          "metadata": {},
          "output_type": "display_data"
        }
      ],
      "source": [
        "import numpy as np\n",
        "import matplotlib.pyplot as plt\n",
        "from sklearn.decomposition import PCA\n",
        "\n",
        "# 랜덤 데이터 생성\n",
        "np.random.seed(0)\n",
        "num_samples = 100\n",
        "num_features = 2\n",
        "num_classes = 5\n",
        "\n",
        "data = np.random.randn(num_samples, num_features) * 100\n",
        "labels = np.random.randint(0, 5, num_samples)\n",
        "\n",
        "# PCA로 2차원으로 차원 축소\n",
        "pca = PCA(n_components=2)\n",
        "data_transformed = pca.fit_transform(data)\n",
        "\n",
        "# 클래스 별로 데이터 분리\n",
        "class_data = {}\n",
        "for i in range(num_classes):\n",
        "    class_data[i] = data_transformed[labels == i]\n",
        "\n",
        "# 클래스 별 평균 계산\n",
        "class_means = {}\n",
        "for i in range(num_classes):\n",
        "    class_means[i] = np.mean(class_data[i], axis=0)\n",
        "\n",
        "# 이분하는 직선 시각화 함수 정의\n",
        "def plot_bisecting_line(class1, class2):\n",
        "    direction_vector = class_means[class2] - class_means[class1]\n",
        "    direction_vector /= np.linalg.norm(direction_vector)\n",
        "\n",
        "    mid_point = (class_means[class1] + class_means[class2]) / 2\n",
        "\n",
        "    slope = direction_vector[1] / direction_vector[0]\n",
        "    intercept = mid_point[1] - slope * mid_point[0]\n",
        "\n",
        "    x_range = np.linspace(min(data_transformed[:, 0]), max(data_transformed[:, 0]), 100)\n",
        "    y_range = slope * x_range + intercept\n",
        "    print(x_range.shape, y_range.shape, class1, class2)\n",
        "    return x_range, y_range\n",
        "\n",
        "# 55개의 직선 시각화\n",
        "import math\n",
        "max_x, min_x = -math.inf, math.inf\n",
        "max_y, min_y = -math.inf, math.inf\n",
        "plt.scatter(data_transformed[:, 0], data_transformed[:, 1], c=labels, cmap='viridis')\n",
        "for class1 in range(num_classes - 1):\n",
        "    for class2 in range(class1 + 1, num_classes):\n",
        "        x_range, y_range = plot_bisecting_line(class1, class2)\n",
        "        max_x = max(max(x_range), max_x)\n",
        "        max_y = max(max(x_range), max_x)\n",
        "        min_x = min(min(y_range), min_y)\n",
        "        min_y = min(min(y_range), min_y)\n",
        "        \n",
        "        plt.plot(x_range, y_range, 'r--')\n",
        "print(max_x, min_x, max_y, min_y,\"-max_x, min_x, max_y, min_y\" )\n",
        "plt.xlim(-200, 200)\n",
        "plt.ylim(-200, 200)\n",
        "plt.xlabel('주성분 1')\n",
        "plt.ylabel('주성분 2')\n",
        "plt.title('PCA와 클래스 이분하는 직선')\n",
        "plt.colorbar()\n",
        "plt.show()"
      ]
    },
    {
      "cell_type": "code",
      "execution_count": null,
      "metadata": {},
      "outputs": [],
      "source": []
    }
  ],
  "metadata": {
    "colab": {
      "collapsed_sections": [],
      "name": "chapter04_getting-started-with-neural-networks.i",
      "provenance": []
    },
    "kernelspec": {
      "display_name": "Python 3",
      "language": "python",
      "name": "python3"
    },
    "language_info": {
      "codemirror_mode": {
        "name": "ipython",
        "version": 3
      },
      "file_extension": ".py",
      "mimetype": "text/x-python",
      "name": "python",
      "nbconvert_exporter": "python",
      "pygments_lexer": "ipython3",
      "version": "3.8.10"
    }
  },
  "nbformat": 4,
  "nbformat_minor": 0
}
