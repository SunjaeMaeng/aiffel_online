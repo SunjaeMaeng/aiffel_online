{
  "cells": [
    {
      "cell_type": "markdown",
      "metadata": {
        "id": "mPvlk_EMTk24"
      },
      "source": [
        "# 머신 러닝의 기본 요소"
      ]
    },
    {
      "cell_type": "markdown",
      "metadata": {
        "id": "QIwdb7e7Tk25"
      },
      "source": [
        "## 일반화: 머신 러닝의 목표"
      ]
    },
    {
      "cell_type": "markdown",
      "metadata": {
        "id": "tPMwQAH7Tk29"
      },
      "source": [
        "### 과소적합과 과대적합"
      ]
    },
    {
      "cell_type": "markdown",
      "metadata": {
        "id": "pGWJKdoUTk2-"
      },
      "source": [
        "#### 잡음 섞인 훈련 데이터"
      ]
    },
    {
      "cell_type": "markdown",
      "metadata": {
        "id": "6px_zXDbTk2_"
      },
      "source": [
        "#### 불확실한 특성"
      ]
    },
    {
      "cell_type": "markdown",
      "metadata": {
        "id": "QgElP-miTk3A"
      },
      "source": [
        "#### 드문 특성과 가짜 상관관계"
      ]
    },
    {
      "cell_type": "markdown",
      "metadata": {
        "id": "VfRNGJB8Tk3B"
      },
      "source": [
        "**MNIST에 백색 잡음 픽셀과 0 픽셀을 추가하기**"
      ]
    },
    {
      "cell_type": "code",
      "execution_count": 3,
      "metadata": {
        "colab": {
          "base_uri": "https://localhost:8080/"
        },
        "execution": {
          "iopub.execute_input": "2022-05-21T01:01:24.254476Z",
          "iopub.status.busy": "2022-05-21T01:01:24.253958Z",
          "iopub.status.idle": "2022-05-21T01:01:27.373051Z",
          "shell.execute_reply": "2022-05-21T01:01:27.372074Z"
        },
        "id": "KBz18RQVTk3C",
        "outputId": "c02f5e8b-f202-474a-f3f0-3ff584b536c9"
      },
      "outputs": [],
      "source": [
        "from tensorflow.keras.datasets import mnist\n",
        "import numpy as np\n",
        "\n",
        "(train_images, train_labels), _ = mnist.load_data()\n",
        "train_images = train_images.reshape((60000, 28 * 28))\n",
        "train_images = train_images.astype(\"float32\") / 255\n",
        "\n",
        "train_images_with_noise_channels = np.concatenate(\n",
        "    [train_images, np.random.random((len(train_images), 784))], axis=1)\n",
        "\n",
        "train_images_with_zeros_channels = np.concatenate(\n",
        "    [train_images, np.zeros((len(train_images), 784))], axis=1)"
      ]
    },
    {
      "cell_type": "code",
      "execution_count": 4,
      "metadata": {
        "colab": {
          "base_uri": "https://localhost:8080/"
        },
        "execution": {
          "iopub.execute_input": "2022-05-21T01:01:27.377455Z",
          "iopub.status.busy": "2022-05-21T01:01:27.376945Z",
          "iopub.status.idle": "2022-05-21T01:01:27.388938Z",
          "shell.execute_reply": "2022-05-21T01:01:27.387917Z"
        },
        "id": "8cUOncJ1Tk3F",
        "outputId": "2a3dee9a-4216-44c0-b42f-af46e217d344"
      },
      "outputs": [
        {
          "data": {
            "text/plain": [
              "(60000, 1568)"
            ]
          },
          "execution_count": 4,
          "metadata": {},
          "output_type": "execute_result"
        }
      ],
      "source": [
        "train_images_with_noise_channels.shape"
      ]
    },
    {
      "cell_type": "markdown",
      "metadata": {
        "id": "Eh9dzVI3Tk3I"
      },
      "source": [
        "**백색 잡음과 0을 추가한 MNIST 데이터에서 모델 훈련하기**"
      ]
    },
    {
      "cell_type": "code",
      "execution_count": 3,
      "metadata": {
        "colab": {
          "base_uri": "https://localhost:8080/"
        },
        "execution": {
          "iopub.execute_input": "2022-05-21T01:01:27.392783Z",
          "iopub.status.busy": "2022-05-21T01:01:27.392444Z",
          "iopub.status.idle": "2022-05-21T01:02:25.502977Z",
          "shell.execute_reply": "2022-05-21T01:02:25.502078Z"
        },
        "id": "H8BUR0xETk3J",
        "outputId": "e11fe53b-adf6-48c0-9551-8bb08ad99200"
      },
      "outputs": [
        {
          "name": "stderr",
          "output_type": "stream",
          "text": [
            "2023-07-31 05:24:54.651466: I tensorflow/core/common_runtime/gpu/gpu_device.cc:1635] Created device /job:localhost/replica:0/task:0/device:GPU:0 with 8035 MB memory:  -> device: 0, name: NVIDIA GeForce RTX 3080, pci bus id: 0000:1a:00.0, compute capability: 8.6\n"
          ]
        },
        {
          "name": "stdout",
          "output_type": "stream",
          "text": [
            "Epoch 1/10\n"
          ]
        },
        {
          "name": "stderr",
          "output_type": "stream",
          "text": [
            "2023-07-31 05:24:56.417830: I tensorflow/compiler/xla/stream_executor/cuda/cuda_blas.cc:637] TensorFloat-32 will be used for the matrix multiplication. This will only be logged once.\n",
            "2023-07-31 05:24:56.443572: I tensorflow/compiler/xla/service/service.cc:169] XLA service 0x7f11c44849e0 initialized for platform CUDA (this does not guarantee that XLA will be used). Devices:\n",
            "2023-07-31 05:24:56.443621: I tensorflow/compiler/xla/service/service.cc:177]   StreamExecutor device (0): NVIDIA GeForce RTX 3080, Compute Capability 8.6\n",
            "2023-07-31 05:24:56.452747: I tensorflow/compiler/mlir/tensorflow/utils/dump_mlir_util.cc:269] disabling MLIR crash reproducer, set env var `MLIR_CRASH_REPRODUCER_DIRECTORY` to enable.\n",
            "2023-07-31 05:24:57.716805: I tensorflow/compiler/xla/stream_executor/cuda/cuda_dnn.cc:424] Loaded cuDNN version 8902\n",
            "2023-07-31 05:24:57.758931: I tensorflow/tsl/platform/default/subprocess.cc:304] Start cannot spawn child process: No such file or directory\n",
            "2023-07-31 05:24:57.833339: I ./tensorflow/compiler/jit/device_compiler.h:180] Compiled cluster using XLA!  This line is logged at most once for the lifetime of the process.\n"
          ]
        },
        {
          "name": "stdout",
          "output_type": "stream",
          "text": [
            "375/375 [==============================] - 5s 6ms/step - loss: 0.6268 - accuracy: 0.8101 - val_loss: 0.2683 - val_accuracy: 0.9187\n",
            "Epoch 2/10\n",
            "375/375 [==============================] - 2s 6ms/step - loss: 0.2601 - accuracy: 0.9193 - val_loss: 0.2168 - val_accuracy: 0.9367\n",
            "Epoch 3/10\n",
            "375/375 [==============================] - 2s 5ms/step - loss: 0.1684 - accuracy: 0.9479 - val_loss: 0.1854 - val_accuracy: 0.9405\n",
            "Epoch 4/10\n",
            "375/375 [==============================] - 2s 6ms/step - loss: 0.1214 - accuracy: 0.9623 - val_loss: 0.2113 - val_accuracy: 0.9346\n",
            "Epoch 5/10\n",
            "375/375 [==============================] - 2s 6ms/step - loss: 0.0880 - accuracy: 0.9728 - val_loss: 0.1475 - val_accuracy: 0.9570\n",
            "Epoch 6/10\n",
            "375/375 [==============================] - 2s 5ms/step - loss: 0.0668 - accuracy: 0.9787 - val_loss: 0.1317 - val_accuracy: 0.9630\n",
            "Epoch 7/10\n",
            "375/375 [==============================] - 2s 6ms/step - loss: 0.0496 - accuracy: 0.9843 - val_loss: 0.2299 - val_accuracy: 0.9367\n",
            "Epoch 8/10\n",
            "375/375 [==============================] - 2s 5ms/step - loss: 0.0374 - accuracy: 0.9884 - val_loss: 0.1416 - val_accuracy: 0.9598\n",
            "Epoch 9/10\n",
            "375/375 [==============================] - 2s 6ms/step - loss: 0.0275 - accuracy: 0.9921 - val_loss: 0.1261 - val_accuracy: 0.9665\n",
            "Epoch 10/10\n",
            "375/375 [==============================] - 2s 5ms/step - loss: 0.0190 - accuracy: 0.9942 - val_loss: 0.1161 - val_accuracy: 0.9707\n",
            "Epoch 1/10\n",
            "375/375 [==============================] - 3s 6ms/step - loss: 0.2914 - accuracy: 0.9171 - val_loss: 0.1660 - val_accuracy: 0.9528\n",
            "Epoch 2/10\n",
            "375/375 [==============================] - 2s 6ms/step - loss: 0.1229 - accuracy: 0.9641 - val_loss: 0.1063 - val_accuracy: 0.9682\n",
            "Epoch 3/10\n",
            "375/375 [==============================] - 2s 6ms/step - loss: 0.0806 - accuracy: 0.9766 - val_loss: 0.0885 - val_accuracy: 0.9741\n",
            "Epoch 4/10\n",
            "375/375 [==============================] - 2s 6ms/step - loss: 0.0588 - accuracy: 0.9830 - val_loss: 0.0881 - val_accuracy: 0.9736\n",
            "Epoch 5/10\n",
            "375/375 [==============================] - 2s 5ms/step - loss: 0.0447 - accuracy: 0.9869 - val_loss: 0.0785 - val_accuracy: 0.9764\n",
            "Epoch 6/10\n",
            "375/375 [==============================] - 2s 6ms/step - loss: 0.0332 - accuracy: 0.9904 - val_loss: 0.0871 - val_accuracy: 0.9746\n",
            "Epoch 7/10\n",
            "375/375 [==============================] - 2s 5ms/step - loss: 0.0257 - accuracy: 0.9927 - val_loss: 0.0743 - val_accuracy: 0.9782\n",
            "Epoch 8/10\n",
            "375/375 [==============================] - 2s 6ms/step - loss: 0.0197 - accuracy: 0.9948 - val_loss: 0.0796 - val_accuracy: 0.9778\n",
            "Epoch 9/10\n",
            "375/375 [==============================] - 2s 6ms/step - loss: 0.0148 - accuracy: 0.9961 - val_loss: 0.0727 - val_accuracy: 0.9802\n",
            "Epoch 10/10\n",
            "375/375 [==============================] - 2s 6ms/step - loss: 0.0111 - accuracy: 0.9975 - val_loss: 0.0856 - val_accuracy: 0.9778\n"
          ]
        }
      ],
      "source": [
        "from tensorflow import keras\n",
        "from tensorflow.keras import layers\n",
        "\n",
        "def get_model():\n",
        "    model = keras.Sequential([\n",
        "        layers.Dense(512, activation=\"relu\"),\n",
        "        layers.Dense(10, activation=\"softmax\")\n",
        "    ])\n",
        "    model.compile(optimizer=\"rmsprop\",\n",
        "                  loss=\"sparse_categorical_crossentropy\",\n",
        "                  metrics=[\"accuracy\"])\n",
        "    return model\n",
        "\n",
        "model = get_model()\n",
        "history_noise = model.fit(\n",
        "    train_images_with_noise_channels, train_labels,\n",
        "    epochs=10,\n",
        "    batch_size=128,\n",
        "    validation_split=0.2)\n",
        "\n",
        "model = get_model()\n",
        "history_zeros = model.fit(\n",
        "    train_images_with_zeros_channels, train_labels,\n",
        "    epochs=10,\n",
        "    batch_size=128,\n",
        "    validation_split=0.2)"
      ]
    },
    {
      "cell_type": "markdown",
      "metadata": {
        "id": "Vx3EJaPaTk3K"
      },
      "source": [
        "**검증 정확도 비교 그래프 그리기**"
      ]
    },
    {
      "cell_type": "code",
      "execution_count": 4,
      "metadata": {
        "colab": {
          "base_uri": "https://localhost:8080/",
          "height": 295
        },
        "execution": {
          "iopub.execute_input": "2022-05-21T01:02:25.507068Z",
          "iopub.status.busy": "2022-05-21T01:02:25.506610Z",
          "iopub.status.idle": "2022-05-21T01:02:26.352048Z",
          "shell.execute_reply": "2022-05-21T01:02:26.351089Z"
        },
        "id": "FZnn2Uw4Tk3L",
        "outputId": "b24d4950-75b0-4347-e3e0-82387afa14f1"
      },
      "outputs": [
        {
          "data": {
            "image/png": "[encoded data removed]",
            "text/plain": [
              "<Figure size 640x480 with 1 Axes>"
            ]
          },
          "metadata": {},
          "output_type": "display_data"
        }
      ],
      "source": [
        "import matplotlib.pyplot as plt\n",
        "val_acc_noise = history_noise.history[\"val_accuracy\"]\n",
        "val_acc_zeros = history_zeros.history[\"val_accuracy\"]\n",
        "epochs = range(1, 11)\n",
        "plt.plot(epochs, val_acc_noise, \"b-\",\n",
        "         label=\"Validation accuracy with noise channels\")\n",
        "plt.plot(epochs, val_acc_zeros, \"b--\",\n",
        "         label=\"Validation accuracy with zeros channels\")\n",
        "plt.title(\"Effect of noise channels on validation accuracy\")\n",
        "plt.xlabel(\"Epochs\")\n",
        "plt.ylabel(\"Accuracy\")\n",
        "plt.legend()\n",
        "plt.show()"
      ]
    },
    {
      "cell_type": "markdown",
      "metadata": {
        "id": "ve-7nJARTk3N"
      },
      "source": [
        "### 딥러닝에서 일반화의 본질"
      ]
    },
    {
      "cell_type": "markdown",
      "metadata": {
        "id": "mMxFZdiQTk3O"
      },
      "source": [
        "**랜덤하게 섞은 레이블로 MNIST 모델 훈련하기**"
      ]
    },
    {
      "cell_type": "code",
      "execution_count": 5,
      "metadata": {
        "colab": {
          "base_uri": "https://localhost:8080/"
        },
        "execution": {
          "iopub.execute_input": "2022-05-21T01:02:26.358294Z",
          "iopub.status.busy": "2022-05-21T01:02:26.357787Z",
          "iopub.status.idle": "2022-05-21T01:05:33.171731Z",
          "shell.execute_reply": "2022-05-21T01:05:33.170427Z"
        },
        "id": "8ocMHIMMTk3O",
        "outputId": "0316c007-217d-45cd-8241-dcdb647bee16"
      },
      "outputs": [
        {
          "name": "stdout",
          "output_type": "stream",
          "text": [
            "Epoch 1/100\n",
            "375/375 [==============================] - 3s 5ms/step - loss: 2.3154 - accuracy: 0.1016 - val_loss: 2.3048 - val_accuracy: 0.1088\n",
            "Epoch 2/100\n",
            "375/375 [==============================] - 2s 5ms/step - loss: 2.2995 - accuracy: 0.1166 - val_loss: 2.3112 - val_accuracy: 0.0998\n",
            "Epoch 3/100\n",
            "375/375 [==============================] - 2s 5ms/step - loss: 2.2912 - accuracy: 0.1279 - val_loss: 2.3193 - val_accuracy: 0.0982\n",
            "Epoch 4/100\n",
            "375/375 [==============================] - 2s 5ms/step - loss: 2.2791 - accuracy: 0.1398 - val_loss: 2.3315 - val_accuracy: 0.1011\n",
            "Epoch 5/100\n",
            "375/375 [==============================] - 2s 5ms/step - loss: 2.2632 - accuracy: 0.1520 - val_loss: 2.3361 - val_accuracy: 0.1000\n",
            "Epoch 6/100\n",
            "375/375 [==============================] - 2s 5ms/step - loss: 2.2440 - accuracy: 0.1657 - val_loss: 2.3503 - val_accuracy: 0.1002\n",
            "Epoch 7/100\n",
            "375/375 [==============================] - 2s 6ms/step - loss: 2.2207 - accuracy: 0.1827 - val_loss: 2.3660 - val_accuracy: 0.0957\n",
            "Epoch 8/100\n",
            "375/375 [==============================] - 2s 5ms/step - loss: 2.1923 - accuracy: 0.1970 - val_loss: 2.3839 - val_accuracy: 0.0984\n",
            "Epoch 9/100\n",
            "375/375 [==============================] - 2s 5ms/step - loss: 2.1634 - accuracy: 0.2113 - val_loss: 2.4038 - val_accuracy: 0.0938\n",
            "Epoch 10/100\n",
            "375/375 [==============================] - 2s 5ms/step - loss: 2.1312 - accuracy: 0.2288 - val_loss: 2.4227 - val_accuracy: 0.0967\n",
            "Epoch 11/100\n",
            "375/375 [==============================] - 2s 5ms/step - loss: 2.0960 - accuracy: 0.2484 - val_loss: 2.4530 - val_accuracy: 0.1019\n",
            "Epoch 12/100\n",
            "375/375 [==============================] - 2s 5ms/step - loss: 2.0604 - accuracy: 0.2631 - val_loss: 2.4789 - val_accuracy: 0.0962\n",
            "Epoch 13/100\n",
            "375/375 [==============================] - 2s 5ms/step - loss: 2.0221 - accuracy: 0.2826 - val_loss: 2.5006 - val_accuracy: 0.0977\n",
            "Epoch 14/100\n",
            "375/375 [==============================] - 2s 5ms/step - loss: 1.9841 - accuracy: 0.2983 - val_loss: 2.5286 - val_accuracy: 0.1005\n",
            "Epoch 15/100\n",
            "375/375 [==============================] - 2s 5ms/step - loss: 1.9459 - accuracy: 0.3107 - val_loss: 2.5650 - val_accuracy: 0.0987\n",
            "Epoch 16/100\n",
            "375/375 [==============================] - 2s 5ms/step - loss: 1.9063 - accuracy: 0.3299 - val_loss: 2.5948 - val_accuracy: 0.1019\n",
            "Epoch 17/100\n",
            "375/375 [==============================] - 2s 5ms/step - loss: 1.8683 - accuracy: 0.3472 - val_loss: 2.6357 - val_accuracy: 0.1002\n",
            "Epoch 18/100\n",
            "375/375 [==============================] - 2s 6ms/step - loss: 1.8286 - accuracy: 0.3651 - val_loss: 2.6811 - val_accuracy: 0.1029\n",
            "Epoch 19/100\n",
            "375/375 [==============================] - 2s 5ms/step - loss: 1.7915 - accuracy: 0.3764 - val_loss: 2.6976 - val_accuracy: 0.0980\n",
            "Epoch 20/100\n",
            "375/375 [==============================] - 2s 5ms/step - loss: 1.7546 - accuracy: 0.3936 - val_loss: 2.7482 - val_accuracy: 0.0983\n",
            "Epoch 21/100\n",
            "375/375 [==============================] - 2s 5ms/step - loss: 1.7168 - accuracy: 0.4040 - val_loss: 2.7837 - val_accuracy: 0.1008\n",
            "Epoch 22/100\n",
            "375/375 [==============================] - 2s 6ms/step - loss: 1.6794 - accuracy: 0.4214 - val_loss: 2.8300 - val_accuracy: 0.1031\n",
            "Epoch 23/100\n",
            "375/375 [==============================] - 2s 5ms/step - loss: 1.6426 - accuracy: 0.4348 - val_loss: 2.9119 - val_accuracy: 0.0993\n",
            "Epoch 24/100\n",
            "375/375 [==============================] - 2s 5ms/step - loss: 1.6114 - accuracy: 0.4458 - val_loss: 2.9220 - val_accuracy: 0.1018\n",
            "Epoch 25/100\n",
            "375/375 [==============================] - 2s 5ms/step - loss: 1.5756 - accuracy: 0.4579 - val_loss: 2.9756 - val_accuracy: 0.0995\n",
            "Epoch 26/100\n",
            "375/375 [==============================] - 2s 5ms/step - loss: 1.5432 - accuracy: 0.4710 - val_loss: 3.0226 - val_accuracy: 0.1021\n",
            "Epoch 27/100\n",
            "375/375 [==============================] - 2s 6ms/step - loss: 1.5074 - accuracy: 0.4866 - val_loss: 3.0514 - val_accuracy: 0.1005\n",
            "Epoch 28/100\n",
            "375/375 [==============================] - 2s 5ms/step - loss: 1.4767 - accuracy: 0.4962 - val_loss: 3.1106 - val_accuracy: 0.1031\n",
            "Epoch 29/100\n",
            "375/375 [==============================] - 2s 5ms/step - loss: 1.4449 - accuracy: 0.5076 - val_loss: 3.1477 - val_accuracy: 0.1043\n",
            "Epoch 30/100\n",
            "375/375 [==============================] - 2s 5ms/step - loss: 1.4135 - accuracy: 0.5173 - val_loss: 3.2114 - val_accuracy: 0.1032\n",
            "Epoch 31/100\n",
            "375/375 [==============================] - 2s 5ms/step - loss: 1.3864 - accuracy: 0.5290 - val_loss: 3.2832 - val_accuracy: 0.1022\n",
            "Epoch 32/100\n",
            "375/375 [==============================] - 2s 5ms/step - loss: 1.3563 - accuracy: 0.5389 - val_loss: 3.3078 - val_accuracy: 0.1018\n",
            "Epoch 33/100\n",
            "375/375 [==============================] - 2s 5ms/step - loss: 1.3281 - accuracy: 0.5528 - val_loss: 3.3796 - val_accuracy: 0.1023\n",
            "Epoch 34/100\n",
            "375/375 [==============================] - 2s 5ms/step - loss: 1.3002 - accuracy: 0.5600 - val_loss: 3.4300 - val_accuracy: 0.1031\n",
            "Epoch 35/100\n",
            "375/375 [==============================] - 2s 5ms/step - loss: 1.2740 - accuracy: 0.5694 - val_loss: 3.4833 - val_accuracy: 0.1018\n",
            "Epoch 36/100\n",
            "375/375 [==============================] - 2s 5ms/step - loss: 1.2479 - accuracy: 0.5817 - val_loss: 3.5392 - val_accuracy: 0.1006\n",
            "Epoch 37/100\n",
            "375/375 [==============================] - 2s 5ms/step - loss: 1.2205 - accuracy: 0.5897 - val_loss: 3.5878 - val_accuracy: 0.1023\n",
            "Epoch 38/100\n",
            "375/375 [==============================] - 2s 5ms/step - loss: 1.1952 - accuracy: 0.5971 - val_loss: 3.6485 - val_accuracy: 0.1037\n",
            "Epoch 39/100\n",
            "375/375 [==============================] - 2s 5ms/step - loss: 1.1695 - accuracy: 0.6068 - val_loss: 3.7276 - val_accuracy: 0.1012\n",
            "Epoch 40/100\n",
            "375/375 [==============================] - 2s 5ms/step - loss: 1.1462 - accuracy: 0.6160 - val_loss: 3.7515 - val_accuracy: 0.1012\n",
            "Epoch 41/100\n",
            "375/375 [==============================] - 2s 5ms/step - loss: 1.1228 - accuracy: 0.6231 - val_loss: 3.8261 - val_accuracy: 0.1019\n",
            "Epoch 42/100\n",
            "375/375 [==============================] - 2s 5ms/step - loss: 1.0989 - accuracy: 0.6336 - val_loss: 3.8850 - val_accuracy: 0.0987\n",
            "Epoch 43/100\n",
            "375/375 [==============================] - 2s 5ms/step - loss: 1.0759 - accuracy: 0.6420 - val_loss: 3.9013 - val_accuracy: 0.1016\n",
            "Epoch 44/100\n",
            "375/375 [==============================] - 2s 5ms/step - loss: 1.0543 - accuracy: 0.6488 - val_loss: 3.9995 - val_accuracy: 0.1000\n",
            "Epoch 45/100\n",
            "375/375 [==============================] - 2s 5ms/step - loss: 1.0357 - accuracy: 0.6534 - val_loss: 4.0509 - val_accuracy: 0.0980\n",
            "Epoch 46/100\n",
            "375/375 [==============================] - 2s 5ms/step - loss: 1.0116 - accuracy: 0.6628 - val_loss: 4.1005 - val_accuracy: 0.0998\n",
            "Epoch 47/100\n",
            "375/375 [==============================] - 2s 5ms/step - loss: 0.9912 - accuracy: 0.6704 - val_loss: 4.1963 - val_accuracy: 0.1006\n",
            "Epoch 48/100\n",
            "375/375 [==============================] - 2s 5ms/step - loss: 0.9728 - accuracy: 0.6787 - val_loss: 4.2391 - val_accuracy: 0.0983\n",
            "Epoch 49/100\n",
            "375/375 [==============================] - 2s 5ms/step - loss: 0.9527 - accuracy: 0.6839 - val_loss: 4.3065 - val_accuracy: 0.1009\n",
            "Epoch 50/100\n",
            "375/375 [==============================] - 2s 5ms/step - loss: 0.9312 - accuracy: 0.6904 - val_loss: 4.3657 - val_accuracy: 0.0998\n",
            "Epoch 51/100\n",
            "375/375 [==============================] - 2s 5ms/step - loss: 0.9119 - accuracy: 0.6999 - val_loss: 4.4772 - val_accuracy: 0.1019\n",
            "Epoch 52/100\n",
            "375/375 [==============================] - 2s 5ms/step - loss: 0.8947 - accuracy: 0.7064 - val_loss: 4.4845 - val_accuracy: 0.1023\n",
            "Epoch 53/100\n",
            "375/375 [==============================] - 2s 5ms/step - loss: 0.8760 - accuracy: 0.7114 - val_loss: 4.5684 - val_accuracy: 0.1011\n",
            "Epoch 54/100\n",
            "375/375 [==============================] - 2s 5ms/step - loss: 0.8580 - accuracy: 0.7174 - val_loss: 4.6443 - val_accuracy: 0.1031\n",
            "Epoch 55/100\n",
            "375/375 [==============================] - 2s 5ms/step - loss: 0.8402 - accuracy: 0.7236 - val_loss: 4.7171 - val_accuracy: 0.0988\n",
            "Epoch 56/100\n",
            "375/375 [==============================] - 2s 5ms/step - loss: 0.8229 - accuracy: 0.7282 - val_loss: 4.7706 - val_accuracy: 0.0989\n",
            "Epoch 57/100\n",
            "375/375 [==============================] - 2s 5ms/step - loss: 0.8076 - accuracy: 0.7357 - val_loss: 4.8225 - val_accuracy: 0.1005\n",
            "Epoch 58/100\n",
            "375/375 [==============================] - 2s 5ms/step - loss: 0.7920 - accuracy: 0.7411 - val_loss: 4.9180 - val_accuracy: 0.1013\n",
            "Epoch 59/100\n",
            "375/375 [==============================] - 2s 5ms/step - loss: 0.7762 - accuracy: 0.7454 - val_loss: 4.9866 - val_accuracy: 0.0988\n",
            "Epoch 60/100\n",
            "375/375 [==============================] - 2s 5ms/step - loss: 0.7611 - accuracy: 0.7512 - val_loss: 5.0500 - val_accuracy: 0.1031\n",
            "Epoch 61/100\n",
            "375/375 [==============================] - 2s 5ms/step - loss: 0.7471 - accuracy: 0.7564 - val_loss: 5.1157 - val_accuracy: 0.0993\n",
            "Epoch 62/100\n",
            "375/375 [==============================] - 2s 5ms/step - loss: 0.7316 - accuracy: 0.7597 - val_loss: 5.1848 - val_accuracy: 0.1022\n",
            "Epoch 63/100\n",
            "375/375 [==============================] - 2s 5ms/step - loss: 0.7157 - accuracy: 0.7676 - val_loss: 5.2831 - val_accuracy: 0.1012\n",
            "Epoch 64/100\n",
            "375/375 [==============================] - 2s 5ms/step - loss: 0.7028 - accuracy: 0.7696 - val_loss: 5.2885 - val_accuracy: 0.1028\n",
            "Epoch 65/100\n",
            "375/375 [==============================] - 2s 6ms/step - loss: 0.6894 - accuracy: 0.7759 - val_loss: 5.3918 - val_accuracy: 0.1011\n",
            "Epoch 66/100\n",
            "375/375 [==============================] - 2s 5ms/step - loss: 0.6726 - accuracy: 0.7816 - val_loss: 5.4838 - val_accuracy: 0.1014\n",
            "Epoch 67/100\n",
            "375/375 [==============================] - 2s 5ms/step - loss: 0.6612 - accuracy: 0.7871 - val_loss: 5.5926 - val_accuracy: 0.1016\n",
            "Epoch 68/100\n",
            "375/375 [==============================] - 2s 5ms/step - loss: 0.6495 - accuracy: 0.7906 - val_loss: 5.6175 - val_accuracy: 0.1016\n",
            "Epoch 69/100\n",
            "375/375 [==============================] - 2s 5ms/step - loss: 0.6367 - accuracy: 0.7953 - val_loss: 5.6585 - val_accuracy: 0.1027\n",
            "Epoch 70/100\n",
            "375/375 [==============================] - 2s 6ms/step - loss: 0.6253 - accuracy: 0.7986 - val_loss: 5.7525 - val_accuracy: 0.1034\n",
            "Epoch 71/100\n",
            "375/375 [==============================] - 2s 5ms/step - loss: 0.6118 - accuracy: 0.8031 - val_loss: 5.8037 - val_accuracy: 0.1002\n",
            "Epoch 72/100\n",
            "375/375 [==============================] - 2s 5ms/step - loss: 0.5996 - accuracy: 0.8069 - val_loss: 5.9281 - val_accuracy: 0.1047\n",
            "Epoch 73/100\n",
            "375/375 [==============================] - 2s 5ms/step - loss: 0.5893 - accuracy: 0.8117 - val_loss: 5.9463 - val_accuracy: 0.0992\n",
            "Epoch 74/100\n",
            "375/375 [==============================] - 2s 5ms/step - loss: 0.5761 - accuracy: 0.8163 - val_loss: 6.0538 - val_accuracy: 0.0993\n",
            "Epoch 75/100\n",
            "375/375 [==============================] - 2s 5ms/step - loss: 0.5673 - accuracy: 0.8177 - val_loss: 6.1105 - val_accuracy: 0.0983\n",
            "Epoch 76/100\n",
            "375/375 [==============================] - 2s 5ms/step - loss: 0.5581 - accuracy: 0.8189 - val_loss: 6.1782 - val_accuracy: 0.1014\n",
            "Epoch 77/100\n",
            "375/375 [==============================] - 2s 5ms/step - loss: 0.5458 - accuracy: 0.8241 - val_loss: 6.2739 - val_accuracy: 0.1015\n",
            "Epoch 78/100\n",
            "375/375 [==============================] - 2s 5ms/step - loss: 0.5327 - accuracy: 0.8302 - val_loss: 6.3387 - val_accuracy: 0.0997\n",
            "Epoch 79/100\n",
            "375/375 [==============================] - 2s 5ms/step - loss: 0.5236 - accuracy: 0.8335 - val_loss: 6.4366 - val_accuracy: 0.1018\n",
            "Epoch 80/100\n",
            "375/375 [==============================] - 2s 5ms/step - loss: 0.5168 - accuracy: 0.8361 - val_loss: 6.4387 - val_accuracy: 0.0998\n",
            "Epoch 81/100\n",
            "375/375 [==============================] - 2s 5ms/step - loss: 0.5062 - accuracy: 0.8388 - val_loss: 6.5776 - val_accuracy: 0.1003\n",
            "Epoch 82/100\n",
            "375/375 [==============================] - 2s 6ms/step - loss: 0.4957 - accuracy: 0.8424 - val_loss: 6.5942 - val_accuracy: 0.1027\n",
            "Epoch 83/100\n",
            "375/375 [==============================] - 2s 5ms/step - loss: 0.4858 - accuracy: 0.8442 - val_loss: 6.6681 - val_accuracy: 0.1005\n",
            "Epoch 84/100\n",
            "375/375 [==============================] - 2s 5ms/step - loss: 0.4774 - accuracy: 0.8497 - val_loss: 6.7859 - val_accuracy: 0.1005\n",
            "Epoch 85/100\n",
            "375/375 [==============================] - 2s 6ms/step - loss: 0.4677 - accuracy: 0.8525 - val_loss: 6.8455 - val_accuracy: 0.0992\n",
            "Epoch 86/100\n",
            "375/375 [==============================] - 2s 5ms/step - loss: 0.4594 - accuracy: 0.8536 - val_loss: 6.9612 - val_accuracy: 0.1005\n",
            "Epoch 87/100\n",
            "375/375 [==============================] - 2s 5ms/step - loss: 0.4511 - accuracy: 0.8587 - val_loss: 6.9985 - val_accuracy: 0.0999\n",
            "Epoch 88/100\n",
            "375/375 [==============================] - 2s 5ms/step - loss: 0.4442 - accuracy: 0.8617 - val_loss: 7.1036 - val_accuracy: 0.0995\n",
            "Epoch 89/100\n",
            "375/375 [==============================] - 2s 5ms/step - loss: 0.4378 - accuracy: 0.8615 - val_loss: 7.1379 - val_accuracy: 0.0987\n",
            "Epoch 90/100\n",
            "375/375 [==============================] - 2s 5ms/step - loss: 0.4275 - accuracy: 0.8659 - val_loss: 7.1992 - val_accuracy: 0.1009\n",
            "Epoch 91/100\n",
            "375/375 [==============================] - 2s 5ms/step - loss: 0.4201 - accuracy: 0.8689 - val_loss: 7.3548 - val_accuracy: 0.1013\n",
            "Epoch 92/100\n",
            "375/375 [==============================] - 2s 5ms/step - loss: 0.4134 - accuracy: 0.8711 - val_loss: 7.4069 - val_accuracy: 0.1013\n",
            "Epoch 93/100\n",
            "375/375 [==============================] - 2s 5ms/step - loss: 0.4052 - accuracy: 0.8723 - val_loss: 7.4959 - val_accuracy: 0.0995\n",
            "Epoch 94/100\n",
            "375/375 [==============================] - 2s 6ms/step - loss: 0.3974 - accuracy: 0.8756 - val_loss: 7.4763 - val_accuracy: 0.0981\n",
            "Epoch 95/100\n",
            "375/375 [==============================] - 2s 5ms/step - loss: 0.3900 - accuracy: 0.8782 - val_loss: 7.6131 - val_accuracy: 0.1013\n",
            "Epoch 96/100\n",
            "375/375 [==============================] - 2s 5ms/step - loss: 0.3849 - accuracy: 0.8807 - val_loss: 7.7097 - val_accuracy: 0.0991\n",
            "Epoch 97/100\n",
            "375/375 [==============================] - 2s 5ms/step - loss: 0.3745 - accuracy: 0.8837 - val_loss: 7.7285 - val_accuracy: 0.1006\n",
            "Epoch 98/100\n",
            "375/375 [==============================] - 2s 5ms/step - loss: 0.3719 - accuracy: 0.8843 - val_loss: 7.8272 - val_accuracy: 0.1018\n",
            "Epoch 99/100\n",
            "375/375 [==============================] - 2s 5ms/step - loss: 0.3650 - accuracy: 0.8878 - val_loss: 7.9160 - val_accuracy: 0.0999\n",
            "Epoch 100/100\n",
            "375/375 [==============================] - 2s 6ms/step - loss: 0.3568 - accuracy: 0.8900 - val_loss: 8.0004 - val_accuracy: 0.1006\n"
          ]
        },
        {
          "data": {
            "text/plain": [
              "<keras.callbacks.History at 0x7f154c385c10>"
            ]
          },
          "execution_count": 5,
          "metadata": {},
          "output_type": "execute_result"
        }
      ],
      "source": [
        "(train_images, train_labels), _ = mnist.load_data()\n",
        "train_images = train_images.reshape((60000, 28 * 28))\n",
        "train_images = train_images.astype(\"float32\") / 255\n",
        "\n",
        "random_train_labels = train_labels[:]\n",
        "np.random.shuffle(random_train_labels)\n",
        "\n",
        "model = keras.Sequential([\n",
        "    layers.Dense(512, activation=\"relu\"),\n",
        "    layers.Dense(10, activation=\"softmax\")\n",
        "])\n",
        "model.compile(optimizer=\"rmsprop\",\n",
        "              loss=\"sparse_categorical_crossentropy\",\n",
        "              metrics=[\"accuracy\"])\n",
        "model.fit(train_images, random_train_labels,\n",
        "          epochs=100,\n",
        "          batch_size=128,\n",
        "          validation_split=0.2)"
      ]
    },
    {
      "cell_type": "markdown",
      "metadata": {
        "id": "oXAyqCrXTk3P"
      },
      "source": [
        "#### 매니폴드 가설"
      ]
    },
    {
      "cell_type": "markdown",
      "metadata": {
        "id": "L0Uvbr43Tk3P"
      },
      "source": [
        "#### 일반화의 원천인 보간"
      ]
    },
    {
      "cell_type": "markdown",
      "metadata": {
        "id": "pHMR5mNZTk3P"
      },
      "source": [
        "#### 딥러닝이 작동하는 이유"
      ]
    },
    {
      "cell_type": "markdown",
      "metadata": {
        "id": "eb0YYZR4Tk3P"
      },
      "source": [
        "#### 가장 중요한 훈련 데이터"
      ]
    },
    {
      "cell_type": "markdown",
      "metadata": {
        "id": "PunfvZ7uTk3Q"
      },
      "source": [
        "## 머신 러닝 모델 평가"
      ]
    },
    {
      "cell_type": "markdown",
      "metadata": {
        "id": "5P4VJfMFTk3Q"
      },
      "source": [
        "### 훈련, 검증, 테스트 세트"
      ]
    },
    {
      "cell_type": "markdown",
      "metadata": {
        "id": "mrwB851-Tk3Q"
      },
      "source": [
        "#### 단순 홀드아웃 검증"
      ]
    },
    {
      "cell_type": "markdown",
      "metadata": {
        "id": "1sEzzYjjTk3R"
      },
      "source": [
        "#### K-겹 교차 검증"
      ]
    },
    {
      "cell_type": "markdown",
      "metadata": {
        "id": "XYrpFDZQTk3R"
      },
      "source": [
        "#### 셔플링을 사용한 반복 K-겹 교차 검증"
      ]
    },
    {
      "cell_type": "markdown",
      "metadata": {
        "id": "kngFjE0QTk3R"
      },
      "source": [
        "### 상식 수준의 기준점을 넘기"
      ]
    },
    {
      "cell_type": "markdown",
      "metadata": {
        "id": "czziT5WVTk3R"
      },
      "source": [
        "### 모델 평가에 대해 유념해야 할 점"
      ]
    },
    {
      "cell_type": "markdown",
      "metadata": {
        "id": "p6nofQfTTk3R"
      },
      "source": [
        "## 훈련 성능 향상하기"
      ]
    },
    {
      "cell_type": "markdown",
      "metadata": {
        "id": "XtWaoT4BTk3S"
      },
      "source": [
        "### 경사 하강법의 핵심 파라미터 튜닝하기"
      ]
    },
    {
      "cell_type": "markdown",
      "metadata": {
        "id": "pRY-dxWTTk3S"
      },
      "source": [
        "**잘못된 높은 학습률로 MNIST 모델 훈련하기**"
      ]
    },
    {
      "cell_type": "code",
      "execution_count": 6,
      "metadata": {
        "colab": {
          "base_uri": "https://localhost:8080/"
        },
        "execution": {
          "iopub.execute_input": "2022-05-21T01:05:33.177460Z",
          "iopub.status.busy": "2022-05-21T01:05:33.177117Z",
          "iopub.status.idle": "2022-05-21T01:05:52.585061Z",
          "shell.execute_reply": "2022-05-21T01:05:52.584241Z"
        },
        "id": "ZqvcFMPRTk3T",
        "outputId": "18e0b507-88da-465a-f1c8-073a2760fb67"
      },
      "outputs": [
        {
          "name": "stdout",
          "output_type": "stream",
          "text": [
            "Epoch 1/10\n",
            "375/375 [==============================] - 3s 6ms/step - loss: 877.6856 - accuracy: 0.3745 - val_loss: 4.7881 - val_accuracy: 0.2662\n",
            "Epoch 2/10\n",
            "375/375 [==============================] - 2s 5ms/step - loss: 3.5218 - accuracy: 0.2073 - val_loss: 2.3736 - val_accuracy: 0.2043\n",
            "Epoch 3/10\n",
            "375/375 [==============================] - 2s 5ms/step - loss: 2.5283 - accuracy: 0.2022 - val_loss: 2.3456 - val_accuracy: 0.1402\n",
            "Epoch 4/10\n",
            "375/375 [==============================] - 2s 5ms/step - loss: 2.3605 - accuracy: 0.1715 - val_loss: 2.4318 - val_accuracy: 0.2120\n",
            "Epoch 5/10\n",
            "375/375 [==============================] - 2s 5ms/step - loss: 2.5888 - accuracy: 0.1901 - val_loss: 2.2758 - val_accuracy: 0.1733\n",
            "Epoch 6/10\n",
            "375/375 [==============================] - 2s 5ms/step - loss: 2.4759 - accuracy: 0.2048 - val_loss: 2.2134 - val_accuracy: 0.2021\n",
            "Epoch 7/10\n",
            "375/375 [==============================] - 2s 5ms/step - loss: 2.4409 - accuracy: 0.2014 - val_loss: 2.0852 - val_accuracy: 0.2247\n",
            "Epoch 8/10\n",
            "375/375 [==============================] - 2s 5ms/step - loss: 2.4162 - accuracy: 0.2094 - val_loss: 2.0969 - val_accuracy: 0.2042\n",
            "Epoch 9/10\n",
            "375/375 [==============================] - 2s 6ms/step - loss: 2.2580 - accuracy: 0.2139 - val_loss: 2.0865 - val_accuracy: 0.2107\n",
            "Epoch 10/10\n",
            "375/375 [==============================] - 2s 5ms/step - loss: 2.3306 - accuracy: 0.2195 - val_loss: 2.1711 - val_accuracy: 0.1896\n"
          ]
        },
        {
          "data": {
            "text/plain": [
              "<keras.callbacks.History at 0x7f167dcd60a0>"
            ]
          },
          "execution_count": 6,
          "metadata": {},
          "output_type": "execute_result"
        }
      ],
      "source": [
        "(train_images, train_labels), _ = mnist.load_data()\n",
        "train_images = train_images.reshape((60000, 28 * 28))\n",
        "train_images = train_images.astype(\"float32\") / 255\n",
        "\n",
        "model = keras.Sequential([\n",
        "    layers.Dense(512, activation=\"relu\"),\n",
        "    layers.Dense(10, activation=\"softmax\")\n",
        "])\n",
        "model.compile(optimizer=keras.optimizers.RMSprop(1.),\n",
        "              loss=\"sparse_categorical_crossentropy\",\n",
        "              metrics=[\"accuracy\"])\n",
        "model.fit(train_images, train_labels,\n",
        "          epochs=10,\n",
        "          batch_size=128,\n",
        "          validation_split=0.2)"
      ]
    },
    {
      "cell_type": "markdown",
      "metadata": {
        "id": "77iXsoAYTk3U"
      },
      "source": [
        "**같은 모델을 적절한 학습률로 훈련하기**"
      ]
    },
    {
      "cell_type": "code",
      "execution_count": 7,
      "metadata": {
        "colab": {
          "base_uri": "https://localhost:8080/"
        },
        "execution": {
          "iopub.execute_input": "2022-05-21T01:05:52.588549Z",
          "iopub.status.busy": "2022-05-21T01:05:52.588260Z",
          "iopub.status.idle": "2022-05-21T01:06:11.526008Z",
          "shell.execute_reply": "2022-05-21T01:06:11.525112Z"
        },
        "id": "TQAqlYm0Tk3U",
        "outputId": "7b26b962-1097-426b-a3b0-16213cc0194b"
      },
      "outputs": [
        {
          "name": "stdout",
          "output_type": "stream",
          "text": [
            "Epoch 1/10\n",
            "375/375 [==============================] - 3s 6ms/step - loss: 0.3534 - accuracy: 0.9112 - val_loss: 0.1582 - val_accuracy: 0.9540\n",
            "Epoch 2/10\n",
            "375/375 [==============================] - 2s 5ms/step - loss: 0.1275 - accuracy: 0.9639 - val_loss: 0.1353 - val_accuracy: 0.9655\n",
            "Epoch 3/10\n",
            "375/375 [==============================] - 2s 5ms/step - loss: 0.0977 - accuracy: 0.9740 - val_loss: 0.1494 - val_accuracy: 0.9675\n",
            "Epoch 4/10\n",
            "375/375 [==============================] - 2s 5ms/step - loss: 0.0812 - accuracy: 0.9795 - val_loss: 0.1550 - val_accuracy: 0.9692\n",
            "Epoch 5/10\n",
            "375/375 [==============================] - 2s 5ms/step - loss: 0.0701 - accuracy: 0.9823 - val_loss: 0.1769 - val_accuracy: 0.9657\n",
            "Epoch 6/10\n",
            "375/375 [==============================] - 2s 5ms/step - loss: 0.0597 - accuracy: 0.9854 - val_loss: 0.1879 - val_accuracy: 0.9702\n",
            "Epoch 7/10\n",
            "375/375 [==============================] - 2s 5ms/step - loss: 0.0528 - accuracy: 0.9869 - val_loss: 0.1763 - val_accuracy: 0.9739\n",
            "Epoch 8/10\n",
            "375/375 [==============================] - 2s 5ms/step - loss: 0.0450 - accuracy: 0.9893 - val_loss: 0.2122 - val_accuracy: 0.9678\n",
            "Epoch 9/10\n",
            "375/375 [==============================] - 2s 5ms/step - loss: 0.0441 - accuracy: 0.9897 - val_loss: 0.1883 - val_accuracy: 0.9753\n",
            "Epoch 10/10\n",
            "375/375 [==============================] - 2s 5ms/step - loss: 0.0325 - accuracy: 0.9922 - val_loss: 0.2694 - val_accuracy: 0.9685\n"
          ]
        },
        {
          "data": {
            "text/plain": [
              "<keras.callbacks.History at 0x7f167db81cd0>"
            ]
          },
          "execution_count": 7,
          "metadata": {},
          "output_type": "execute_result"
        }
      ],
      "source": [
        "model = keras.Sequential([\n",
        "    layers.Dense(512, activation=\"relu\"),\n",
        "    layers.Dense(10, activation=\"softmax\")\n",
        "])\n",
        "model.compile(optimizer=keras.optimizers.RMSprop(1e-2),\n",
        "              loss=\"sparse_categorical_crossentropy\",\n",
        "              metrics=[\"accuracy\"])\n",
        "model.fit(train_images, train_labels,\n",
        "          epochs=10,\n",
        "          batch_size=128,\n",
        "          validation_split=0.2)"
      ]
    },
    {
      "cell_type": "markdown",
      "metadata": {
        "id": "9IVJeVeOTk3V"
      },
      "source": [
        "### 구조에 대해 더 나은 가정하기"
      ]
    },
    {
      "cell_type": "markdown",
      "metadata": {
        "id": "Br1F2jcwTk3V"
      },
      "source": [
        "### 모델 용량 늘리기"
      ]
    },
    {
      "cell_type": "markdown",
      "metadata": {
        "id": "Ubvdcv_-Tk3V"
      },
      "source": [
        "**MNIST 데이터를 사용한 간단한 로지스틱 회귀 모델**"
      ]
    },
    {
      "cell_type": "code",
      "execution_count": 8,
      "metadata": {
        "colab": {
          "base_uri": "https://localhost:8080/"
        },
        "execution": {
          "iopub.execute_input": "2022-05-21T01:06:11.530131Z",
          "iopub.status.busy": "2022-05-21T01:06:11.529560Z",
          "iopub.status.idle": "2022-05-21T01:06:25.955536Z",
          "shell.execute_reply": "2022-05-21T01:06:25.954654Z"
        },
        "id": "xl5ejzSRTk3W",
        "outputId": "515b5c38-0fc7-41cb-a8ab-a217997afff3"
      },
      "outputs": [
        {
          "name": "stdout",
          "output_type": "stream",
          "text": [
            "Epoch 1/20\n",
            "375/375 [==============================] - 2s 5ms/step - loss: 0.6686 - accuracy: 0.8350 - val_loss: 0.3601 - val_accuracy: 0.9003\n",
            "Epoch 2/20\n",
            "375/375 [==============================] - 2s 5ms/step - loss: 0.3527 - accuracy: 0.9031 - val_loss: 0.3105 - val_accuracy: 0.9163\n",
            "Epoch 3/20\n",
            "375/375 [==============================] - 2s 5ms/step - loss: 0.3176 - accuracy: 0.9119 - val_loss: 0.2944 - val_accuracy: 0.9172\n",
            "Epoch 4/20\n",
            "375/375 [==============================] - 2s 5ms/step - loss: 0.3020 - accuracy: 0.9159 - val_loss: 0.2844 - val_accuracy: 0.9237\n",
            "Epoch 5/20\n",
            "375/375 [==============================] - 2s 5ms/step - loss: 0.2921 - accuracy: 0.9186 - val_loss: 0.2789 - val_accuracy: 0.9250\n",
            "Epoch 6/20\n",
            "375/375 [==============================] - 2s 5ms/step - loss: 0.2856 - accuracy: 0.9196 - val_loss: 0.2746 - val_accuracy: 0.9252\n",
            "Epoch 7/20\n",
            "375/375 [==============================] - 2s 5ms/step - loss: 0.2807 - accuracy: 0.9215 - val_loss: 0.2713 - val_accuracy: 0.9255\n",
            "Epoch 8/20\n",
            "375/375 [==============================] - 2s 5ms/step - loss: 0.2768 - accuracy: 0.9228 - val_loss: 0.2704 - val_accuracy: 0.9256\n",
            "Epoch 9/20\n",
            "375/375 [==============================] - 2s 5ms/step - loss: 0.2738 - accuracy: 0.9242 - val_loss: 0.2685 - val_accuracy: 0.9258\n",
            "Epoch 10/20\n",
            "375/375 [==============================] - 2s 5ms/step - loss: 0.2709 - accuracy: 0.9251 - val_loss: 0.2693 - val_accuracy: 0.9268\n",
            "Epoch 11/20\n",
            "375/375 [==============================] - 2s 5ms/step - loss: 0.2688 - accuracy: 0.9257 - val_loss: 0.2669 - val_accuracy: 0.9287\n",
            "Epoch 12/20\n",
            "375/375 [==============================] - 2s 5ms/step - loss: 0.2665 - accuracy: 0.9264 - val_loss: 0.2657 - val_accuracy: 0.9286\n",
            "Epoch 13/20\n",
            "375/375 [==============================] - 2s 5ms/step - loss: 0.2646 - accuracy: 0.9271 - val_loss: 0.2653 - val_accuracy: 0.9284\n",
            "Epoch 14/20\n",
            "375/375 [==============================] - 2s 5ms/step - loss: 0.2631 - accuracy: 0.9274 - val_loss: 0.2642 - val_accuracy: 0.9290\n",
            "Epoch 15/20\n",
            "375/375 [==============================] - 2s 5ms/step - loss: 0.2621 - accuracy: 0.9283 - val_loss: 0.2631 - val_accuracy: 0.9290\n",
            "Epoch 16/20\n",
            "375/375 [==============================] - 2s 5ms/step - loss: 0.2605 - accuracy: 0.9284 - val_loss: 0.2630 - val_accuracy: 0.9297\n",
            "Epoch 17/20\n",
            "375/375 [==============================] - 2s 5ms/step - loss: 0.2594 - accuracy: 0.9286 - val_loss: 0.2637 - val_accuracy: 0.9280\n",
            "Epoch 18/20\n",
            "375/375 [==============================] - 2s 5ms/step - loss: 0.2585 - accuracy: 0.9289 - val_loss: 0.2631 - val_accuracy: 0.9292\n",
            "Epoch 19/20\n",
            "375/375 [==============================] - 2s 5ms/step - loss: 0.2573 - accuracy: 0.9290 - val_loss: 0.2628 - val_accuracy: 0.9294\n",
            "Epoch 20/20\n",
            "375/375 [==============================] - 2s 5ms/step - loss: 0.2563 - accuracy: 0.9297 - val_loss: 0.2616 - val_accuracy: 0.9310\n"
          ]
        }
      ],
      "source": [
        "model = keras.Sequential([layers.Dense(10, activation=\"softmax\")])\n",
        "model.compile(optimizer=\"rmsprop\",\n",
        "              loss=\"sparse_categorical_crossentropy\",\n",
        "              metrics=[\"accuracy\"])\n",
        "history_small_model = model.fit(\n",
        "    train_images, train_labels,\n",
        "    epochs=20,\n",
        "    batch_size=128,\n",
        "    validation_split=0.2)"
      ]
    },
    {
      "cell_type": "code",
      "execution_count": 9,
      "metadata": {
        "colab": {
          "base_uri": "https://localhost:8080/",
          "height": 295
        },
        "execution": {
          "iopub.execute_input": "2022-05-21T01:06:25.959685Z",
          "iopub.status.busy": "2022-05-21T01:06:25.959399Z",
          "iopub.status.idle": "2022-05-21T01:06:26.277516Z",
          "shell.execute_reply": "2022-05-21T01:06:26.276506Z"
        },
        "id": "-yiFhvT4Tk3W",
        "outputId": "7421f121-24fa-40c4-9a7f-994733415b8f"
      },
      "outputs": [
        {
          "data": {
            "image/png": "[encoded data removed]",
            "text/plain": [
              "<Figure size 640x480 with 1 Axes>"
            ]
          },
          "metadata": {},
          "output_type": "display_data"
        }
      ],
      "source": [
        "import matplotlib.pyplot as plt\n",
        "val_loss = history_small_model.history[\"val_loss\"]\n",
        "epochs = range(1, 21)\n",
        "plt.plot(epochs, val_loss, \"b--\",\n",
        "         label=\"Validation loss\")\n",
        "plt.title(\"Effect of insufficient model capacity on validation loss\")\n",
        "plt.xlabel(\"Epochs\")\n",
        "plt.ylabel(\"Loss\")\n",
        "plt.legend()\n",
        "plt.show()"
      ]
    },
    {
      "cell_type": "code",
      "execution_count": 10,
      "metadata": {
        "colab": {
          "base_uri": "https://localhost:8080/"
        },
        "execution": {
          "iopub.execute_input": "2022-05-21T01:06:26.281161Z",
          "iopub.status.busy": "2022-05-21T01:06:26.280863Z",
          "iopub.status.idle": "2022-05-21T01:06:48.235589Z",
          "shell.execute_reply": "2022-05-21T01:06:48.234644Z"
        },
        "id": "TYz3NAseTk3X",
        "outputId": "0e274062-e4dc-41d8-fc90-cb3b9083812d"
      },
      "outputs": [
        {
          "name": "stdout",
          "output_type": "stream",
          "text": [
            "Epoch 1/20\n",
            "375/375 [==============================] - 3s 6ms/step - loss: 0.3697 - accuracy: 0.8942 - val_loss: 0.1958 - val_accuracy: 0.9434\n",
            "Epoch 2/20\n",
            "375/375 [==============================] - 2s 6ms/step - loss: 0.1647 - accuracy: 0.9502 - val_loss: 0.1392 - val_accuracy: 0.9589\n",
            "Epoch 3/20\n",
            "375/375 [==============================] - 2s 5ms/step - loss: 0.1162 - accuracy: 0.9649 - val_loss: 0.1287 - val_accuracy: 0.9628\n",
            "Epoch 4/20\n",
            "375/375 [==============================] - 2s 6ms/step - loss: 0.0886 - accuracy: 0.9736 - val_loss: 0.1122 - val_accuracy: 0.9668\n",
            "Epoch 5/20\n",
            "375/375 [==============================] - 2s 6ms/step - loss: 0.0712 - accuracy: 0.9782 - val_loss: 0.1073 - val_accuracy: 0.9695\n",
            "Epoch 6/20\n",
            "375/375 [==============================] - 2s 6ms/step - loss: 0.0593 - accuracy: 0.9823 - val_loss: 0.0980 - val_accuracy: 0.9718\n",
            "Epoch 7/20\n",
            "375/375 [==============================] - 2s 6ms/step - loss: 0.0493 - accuracy: 0.9852 - val_loss: 0.0956 - val_accuracy: 0.9732\n",
            "Epoch 8/20\n",
            "375/375 [==============================] - 2s 6ms/step - loss: 0.0419 - accuracy: 0.9869 - val_loss: 0.0974 - val_accuracy: 0.9739\n",
            "Epoch 9/20\n",
            "375/375 [==============================] - 2s 6ms/step - loss: 0.0356 - accuracy: 0.9893 - val_loss: 0.0957 - val_accuracy: 0.9745\n",
            "Epoch 10/20\n",
            "375/375 [==============================] - 2s 6ms/step - loss: 0.0299 - accuracy: 0.9907 - val_loss: 0.1052 - val_accuracy: 0.9728\n",
            "Epoch 11/20\n",
            "375/375 [==============================] - 2s 6ms/step - loss: 0.0243 - accuracy: 0.9927 - val_loss: 0.1079 - val_accuracy: 0.9732\n",
            "Epoch 12/20\n",
            "375/375 [==============================] - 2s 6ms/step - loss: 0.0219 - accuracy: 0.9936 - val_loss: 0.1068 - val_accuracy: 0.9747\n",
            "Epoch 13/20\n",
            "375/375 [==============================] - 2s 6ms/step - loss: 0.0181 - accuracy: 0.9942 - val_loss: 0.1063 - val_accuracy: 0.9751\n",
            "Epoch 14/20\n",
            "375/375 [==============================] - 2s 6ms/step - loss: 0.0149 - accuracy: 0.9954 - val_loss: 0.1173 - val_accuracy: 0.9740\n",
            "Epoch 15/20\n",
            "375/375 [==============================] - 2s 6ms/step - loss: 0.0132 - accuracy: 0.9956 - val_loss: 0.1127 - val_accuracy: 0.9762\n",
            "Epoch 16/20\n",
            "375/375 [==============================] - 2s 6ms/step - loss: 0.0105 - accuracy: 0.9969 - val_loss: 0.1233 - val_accuracy: 0.9737\n",
            "Epoch 17/20\n",
            "375/375 [==============================] - 2s 6ms/step - loss: 0.0097 - accuracy: 0.9968 - val_loss: 0.1271 - val_accuracy: 0.9757\n",
            "Epoch 18/20\n",
            "375/375 [==============================] - 2s 6ms/step - loss: 0.0084 - accuracy: 0.9973 - val_loss: 0.1309 - val_accuracy: 0.9735\n",
            "Epoch 19/20\n",
            "375/375 [==============================] - 2s 6ms/step - loss: 0.0073 - accuracy: 0.9977 - val_loss: 0.1303 - val_accuracy: 0.9753\n",
            "Epoch 20/20\n",
            "375/375 [==============================] - 2s 6ms/step - loss: 0.0061 - accuracy: 0.9981 - val_loss: 0.1340 - val_accuracy: 0.9758\n"
          ]
        }
      ],
      "source": [
        "model = keras.Sequential([\n",
        "    layers.Dense(96, activation=\"relu\"),\n",
        "    layers.Dense(96, activation=\"relu\"),\n",
        "    layers.Dense(10, activation=\"softmax\"),\n",
        "])\n",
        "model.compile(optimizer=\"rmsprop\",\n",
        "              loss=\"sparse_categorical_crossentropy\",\n",
        "              metrics=[\"accuracy\"])\n",
        "history_large_model = model.fit(\n",
        "    train_images, train_labels,\n",
        "    epochs=20,\n",
        "    batch_size=128,\n",
        "    validation_split=0.2)"
      ]
    },
    {
      "cell_type": "markdown",
      "metadata": {
        "id": "xsjm0jXuTk3Y"
      },
      "source": [
        "## 일반화 성능 향상하기"
      ]
    },
    {
      "cell_type": "markdown",
      "metadata": {
        "id": "SCOzA1LKTk3Y"
      },
      "source": [
        "### 데이터셋 큐레이션"
      ]
    },
    {
      "cell_type": "markdown",
      "metadata": {
        "id": "cDNJQp2yTk3Y"
      },
      "source": [
        "### 특성 공학"
      ]
    },
    {
      "cell_type": "markdown",
      "metadata": {
        "id": "BA30Ys7CTk3Y"
      },
      "source": [
        "### 조기 종료 사용하기"
      ]
    },
    {
      "cell_type": "markdown",
      "metadata": {
        "id": "FS0RwwIpTk3Z"
      },
      "source": [
        "### 모델 규제하기"
      ]
    },
    {
      "cell_type": "markdown",
      "metadata": {
        "id": "g1lVn3NcTk3Z"
      },
      "source": [
        "#### 네트워크 크기 축소"
      ]
    },
    {
      "cell_type": "markdown",
      "metadata": {
        "id": "j3r8_V04Tk3Z"
      },
      "source": [
        "**원본 모델**"
      ]
    },
    {
      "cell_type": "code",
      "execution_count": 11,
      "metadata": {
        "colab": {
          "base_uri": "https://localhost:8080/"
        },
        "execution": {
          "iopub.execute_input": "2022-05-21T01:06:48.240327Z",
          "iopub.status.busy": "2022-05-21T01:06:48.239635Z",
          "iopub.status.idle": "2022-05-21T01:07:01.599335Z",
          "shell.execute_reply": "2022-05-21T01:07:01.598428Z"
        },
        "id": "yZ__XxRqTk3Z",
        "outputId": "42070f91-b5a8-4806-c5a3-b6fb087605bc"
      },
      "outputs": [
        {
          "name": "stdout",
          "output_type": "stream",
          "text": [
            "Epoch 1/20\n",
            "30/30 [==============================] - 2s 26ms/step - loss: 0.5246 - accuracy: 0.7737 - val_loss: 0.3914 - val_accuracy: 0.8677\n",
            "Epoch 2/20\n",
            "30/30 [==============================] - 0s 14ms/step - loss: 0.3223 - accuracy: 0.8942 - val_loss: 0.3077 - val_accuracy: 0.8854\n",
            "Epoch 3/20\n",
            "30/30 [==============================] - 0s 14ms/step - loss: 0.2366 - accuracy: 0.9213 - val_loss: 0.2790 - val_accuracy: 0.8914\n",
            "Epoch 4/20\n",
            "30/30 [==============================] - 0s 14ms/step - loss: 0.1911 - accuracy: 0.9371 - val_loss: 0.2752 - val_accuracy: 0.8910\n",
            "Epoch 5/20\n",
            "30/30 [==============================] - 0s 14ms/step - loss: 0.1603 - accuracy: 0.9473 - val_loss: 0.2871 - val_accuracy: 0.8840\n",
            "Epoch 6/20\n",
            "30/30 [==============================] - 0s 14ms/step - loss: 0.1351 - accuracy: 0.9549 - val_loss: 0.2877 - val_accuracy: 0.8866\n",
            "Epoch 7/20\n",
            "30/30 [==============================] - 0s 14ms/step - loss: 0.1153 - accuracy: 0.9641 - val_loss: 0.3017 - val_accuracy: 0.8838\n",
            "Epoch 8/20\n",
            "30/30 [==============================] - 0s 15ms/step - loss: 0.0997 - accuracy: 0.9691 - val_loss: 0.3260 - val_accuracy: 0.8807\n",
            "Epoch 9/20\n",
            "30/30 [==============================] - 0s 14ms/step - loss: 0.0856 - accuracy: 0.9747 - val_loss: 0.3756 - val_accuracy: 0.8703\n",
            "Epoch 10/20\n",
            "30/30 [==============================] - 0s 14ms/step - loss: 0.0743 - accuracy: 0.9800 - val_loss: 0.3577 - val_accuracy: 0.8789\n",
            "Epoch 11/20\n",
            "30/30 [==============================] - 0s 14ms/step - loss: 0.0662 - accuracy: 0.9818 - val_loss: 0.3768 - val_accuracy: 0.8775\n",
            "Epoch 12/20\n",
            "30/30 [==============================] - 0s 14ms/step - loss: 0.0525 - accuracy: 0.9868 - val_loss: 0.3988 - val_accuracy: 0.8762\n",
            "Epoch 13/20\n",
            "30/30 [==============================] - 0s 14ms/step - loss: 0.0475 - accuracy: 0.9886 - val_loss: 0.4269 - val_accuracy: 0.8744\n",
            "Epoch 14/20\n",
            "30/30 [==============================] - 0s 15ms/step - loss: 0.0405 - accuracy: 0.9908 - val_loss: 0.4453 - val_accuracy: 0.8742\n",
            "Epoch 15/20\n",
            "30/30 [==============================] - 0s 14ms/step - loss: 0.0335 - accuracy: 0.9933 - val_loss: 0.5334 - val_accuracy: 0.8620\n",
            "Epoch 16/20\n",
            "30/30 [==============================] - 0s 14ms/step - loss: 0.0275 - accuracy: 0.9946 - val_loss: 0.4935 - val_accuracy: 0.8726\n",
            "Epoch 17/20\n",
            "30/30 [==============================] - 0s 14ms/step - loss: 0.0243 - accuracy: 0.9959 - val_loss: 0.5383 - val_accuracy: 0.8680\n",
            "Epoch 18/20\n",
            "30/30 [==============================] - 0s 14ms/step - loss: 0.0203 - accuracy: 0.9966 - val_loss: 0.5646 - val_accuracy: 0.8696\n",
            "Epoch 19/20\n",
            "30/30 [==============================] - 0s 14ms/step - loss: 0.0194 - accuracy: 0.9957 - val_loss: 0.5737 - val_accuracy: 0.8714\n",
            "Epoch 20/20\n",
            "30/30 [==============================] - 0s 14ms/step - loss: 0.0118 - accuracy: 0.9987 - val_loss: 0.7297 - val_accuracy: 0.8509\n"
          ]
        }
      ],
      "source": [
        "from tensorflow.keras.datasets import imdb\n",
        "(train_data, train_labels), _ = imdb.load_data(num_words=10000)\n",
        "\n",
        "def vectorize_sequences(sequences, dimension=10000):\n",
        "    results = np.zeros((len(sequences), dimension))\n",
        "    for i, sequence in enumerate(sequences):\n",
        "        results[i, sequence] = 1.\n",
        "    return results\n",
        "train_data = vectorize_sequences(train_data)\n",
        "\n",
        "model = keras.Sequential([\n",
        "    layers.Dense(16, activation=\"relu\"),\n",
        "    layers.Dense(16, activation=\"relu\"),\n",
        "    layers.Dense(1, activation=\"sigmoid\")\n",
        "])\n",
        "model.compile(optimizer=\"rmsprop\",\n",
        "              loss=\"binary_crossentropy\",\n",
        "              metrics=[\"accuracy\"])\n",
        "history_original = model.fit(train_data, train_labels,\n",
        "                             epochs=20, batch_size=512, validation_split=0.4)"
      ]
    },
    {
      "cell_type": "markdown",
      "metadata": {
        "id": "Ur2zKeT6Tk3a"
      },
      "source": [
        "**작은 용량의 모델**"
      ]
    },
    {
      "cell_type": "code",
      "execution_count": 12,
      "metadata": {
        "colab": {
          "base_uri": "https://localhost:8080/"
        },
        "execution": {
          "iopub.execute_input": "2022-05-21T01:07:01.603485Z",
          "iopub.status.busy": "2022-05-21T01:07:01.603168Z",
          "iopub.status.idle": "2022-05-21T01:07:09.910749Z",
          "shell.execute_reply": "2022-05-21T01:07:09.909893Z"
        },
        "id": "J07S8kRUTk3a",
        "outputId": "c0a63b10-4be7-4862-b259-50a1ba0abdd4"
      },
      "outputs": [
        {
          "name": "stdout",
          "output_type": "stream",
          "text": [
            "Epoch 1/20\n",
            "30/30 [==============================] - 2s 25ms/step - loss: 0.6253 - accuracy: 0.6363 - val_loss: 0.5789 - val_accuracy: 0.7716\n",
            "Epoch 2/20\n",
            "30/30 [==============================] - 0s 14ms/step - loss: 0.5439 - accuracy: 0.7787 - val_loss: 0.5391 - val_accuracy: 0.7268\n",
            "Epoch 3/20\n",
            "30/30 [==============================] - 0s 14ms/step - loss: 0.4996 - accuracy: 0.8309 - val_loss: 0.5051 - val_accuracy: 0.8029\n",
            "Epoch 4/20\n",
            "30/30 [==============================] - 0s 14ms/step - loss: 0.4664 - accuracy: 0.8703 - val_loss: 0.4828 - val_accuracy: 0.8508\n",
            "Epoch 5/20\n",
            "30/30 [==============================] - 0s 14ms/step - loss: 0.4393 - accuracy: 0.8940 - val_loss: 0.4824 - val_accuracy: 0.8094\n",
            "Epoch 6/20\n",
            "30/30 [==============================] - 0s 14ms/step - loss: 0.4167 - accuracy: 0.9094 - val_loss: 0.4596 - val_accuracy: 0.8480\n",
            "Epoch 7/20\n",
            "30/30 [==============================] - 0s 14ms/step - loss: 0.3968 - accuracy: 0.9262 - val_loss: 0.4480 - val_accuracy: 0.8648\n",
            "Epoch 8/20\n",
            "30/30 [==============================] - 0s 15ms/step - loss: 0.3793 - accuracy: 0.9390 - val_loss: 0.4443 - val_accuracy: 0.8636\n",
            "Epoch 9/20\n",
            "30/30 [==============================] - 0s 15ms/step - loss: 0.3633 - accuracy: 0.9478 - val_loss: 0.4316 - val_accuracy: 0.8827\n",
            "Epoch 10/20\n",
            "30/30 [==============================] - 0s 14ms/step - loss: 0.3490 - accuracy: 0.9553 - val_loss: 0.4342 - val_accuracy: 0.8731\n",
            "Epoch 11/20\n",
            "30/30 [==============================] - 0s 14ms/step - loss: 0.3357 - accuracy: 0.9616 - val_loss: 0.4352 - val_accuracy: 0.8727\n",
            "Epoch 12/20\n",
            "30/30 [==============================] - 0s 14ms/step - loss: 0.3233 - accuracy: 0.9671 - val_loss: 0.4611 - val_accuracy: 0.8571\n",
            "Epoch 13/20\n",
            "30/30 [==============================] - 0s 15ms/step - loss: 0.3117 - accuracy: 0.9714 - val_loss: 0.4481 - val_accuracy: 0.8661\n",
            "Epoch 14/20\n",
            "30/30 [==============================] - 0s 14ms/step - loss: 0.3003 - accuracy: 0.9748 - val_loss: 0.4506 - val_accuracy: 0.8682\n",
            "Epoch 15/20\n",
            "30/30 [==============================] - 0s 14ms/step - loss: 0.2907 - accuracy: 0.9781 - val_loss: 0.4391 - val_accuracy: 0.8730\n",
            "Epoch 16/20\n",
            "30/30 [==============================] - 0s 14ms/step - loss: 0.2803 - accuracy: 0.9806 - val_loss: 0.4747 - val_accuracy: 0.8605\n",
            "Epoch 17/20\n",
            "30/30 [==============================] - 0s 14ms/step - loss: 0.2710 - accuracy: 0.9829 - val_loss: 0.4738 - val_accuracy: 0.8631\n",
            "Epoch 18/20\n",
            "30/30 [==============================] - 0s 14ms/step - loss: 0.2625 - accuracy: 0.9847 - val_loss: 0.4787 - val_accuracy: 0.8620\n",
            "Epoch 19/20\n",
            "30/30 [==============================] - 0s 14ms/step - loss: 0.2538 - accuracy: 0.9867 - val_loss: 0.4673 - val_accuracy: 0.8671\n",
            "Epoch 20/20\n",
            "30/30 [==============================] - 0s 14ms/step - loss: 0.2459 - accuracy: 0.9881 - val_loss: 0.5094 - val_accuracy: 0.8585\n"
          ]
        }
      ],
      "source": [
        "model = keras.Sequential([\n",
        "    layers.Dense(4, activation=\"relu\"),\n",
        "    layers.Dense(4, activation=\"relu\"),\n",
        "    layers.Dense(1, activation=\"sigmoid\")\n",
        "])\n",
        "model.compile(optimizer=\"rmsprop\",\n",
        "              loss=\"binary_crossentropy\",\n",
        "              metrics=[\"accuracy\"])\n",
        "history_smaller_model = model.fit(\n",
        "    train_data, train_labels,\n",
        "    epochs=20, batch_size=512, validation_split=0.4)"
      ]
    },
    {
      "cell_type": "markdown",
      "metadata": {
        "id": "k6040fZeTk3a"
      },
      "source": [
        "**큰 용량의 모델**"
      ]
    },
    {
      "cell_type": "code",
      "execution_count": 13,
      "metadata": {
        "colab": {
          "base_uri": "https://localhost:8080/"
        },
        "execution": {
          "iopub.execute_input": "2022-05-21T01:07:09.914619Z",
          "iopub.status.busy": "2022-05-21T01:07:09.914070Z",
          "iopub.status.idle": "2022-05-21T01:07:55.440909Z",
          "shell.execute_reply": "2022-05-21T01:07:55.439855Z"
        },
        "id": "gRyaH_CkTk3b",
        "outputId": "926ff59e-c18a-439c-957d-c7f1b60584ca"
      },
      "outputs": [
        {
          "name": "stdout",
          "output_type": "stream",
          "text": [
            "Epoch 1/20\n",
            "30/30 [==============================] - 2s 25ms/step - loss: 0.5694 - accuracy: 0.7000 - val_loss: 0.3348 - val_accuracy: 0.8684\n",
            "Epoch 2/20\n",
            "30/30 [==============================] - 0s 14ms/step - loss: 0.3331 - accuracy: 0.8656 - val_loss: 0.2790 - val_accuracy: 0.8870\n",
            "Epoch 3/20\n",
            "30/30 [==============================] - 0s 13ms/step - loss: 0.2379 - accuracy: 0.9049 - val_loss: 0.2934 - val_accuracy: 0.8781\n",
            "Epoch 4/20\n",
            "30/30 [==============================] - 0s 14ms/step - loss: 0.1859 - accuracy: 0.9291 - val_loss: 0.3354 - val_accuracy: 0.8728\n",
            "Epoch 5/20\n",
            "30/30 [==============================] - 0s 14ms/step - loss: 0.1451 - accuracy: 0.9461 - val_loss: 0.2930 - val_accuracy: 0.8886\n",
            "Epoch 6/20\n",
            "30/30 [==============================] - 0s 15ms/step - loss: 0.1064 - accuracy: 0.9627 - val_loss: 0.3120 - val_accuracy: 0.8797\n",
            "Epoch 7/20\n",
            "30/30 [==============================] - 0s 14ms/step - loss: 0.0730 - accuracy: 0.9761 - val_loss: 0.4043 - val_accuracy: 0.8772\n",
            "Epoch 8/20\n",
            "30/30 [==============================] - 0s 14ms/step - loss: 0.0903 - accuracy: 0.9759 - val_loss: 0.3458 - val_accuracy: 0.8855\n",
            "Epoch 9/20\n",
            "30/30 [==============================] - 0s 15ms/step - loss: 0.0149 - accuracy: 0.9973 - val_loss: 0.4321 - val_accuracy: 0.8849\n",
            "Epoch 10/20\n",
            "30/30 [==============================] - 0s 14ms/step - loss: 0.0822 - accuracy: 0.9805 - val_loss: 0.3949 - val_accuracy: 0.8833\n",
            "Epoch 11/20\n",
            "30/30 [==============================] - 0s 15ms/step - loss: 0.0062 - accuracy: 0.9995 - val_loss: 0.4984 - val_accuracy: 0.8817\n",
            "Epoch 12/20\n",
            "30/30 [==============================] - 0s 14ms/step - loss: 0.0112 - accuracy: 0.9981 - val_loss: 1.4438 - val_accuracy: 0.7651\n",
            "Epoch 13/20\n",
            "30/30 [==============================] - 0s 15ms/step - loss: 0.0334 - accuracy: 0.9894 - val_loss: 0.4889 - val_accuracy: 0.8842\n",
            "Epoch 14/20\n",
            "30/30 [==============================] - 0s 15ms/step - loss: 0.0019 - accuracy: 0.9999 - val_loss: 0.5656 - val_accuracy: 0.8826\n",
            "Epoch 15/20\n",
            "30/30 [==============================] - 0s 14ms/step - loss: 0.1028 - accuracy: 0.9807 - val_loss: 0.4655 - val_accuracy: 0.8803\n",
            "Epoch 16/20\n",
            "30/30 [==============================] - 0s 14ms/step - loss: 0.0030 - accuracy: 1.0000 - val_loss: 0.5039 - val_accuracy: 0.8829\n",
            "Epoch 17/20\n",
            "30/30 [==============================] - 0s 15ms/step - loss: 0.0012 - accuracy: 1.0000 - val_loss: 0.5770 - val_accuracy: 0.8824\n",
            "Epoch 18/20\n",
            "30/30 [==============================] - 0s 15ms/step - loss: 6.8824e-04 - accuracy: 1.0000 - val_loss: 0.6295 - val_accuracy: 0.8834\n",
            "Epoch 19/20\n",
            "30/30 [==============================] - 0s 15ms/step - loss: 4.4047e-04 - accuracy: 1.0000 - val_loss: 0.6688 - val_accuracy: 0.8823\n",
            "Epoch 20/20\n",
            "30/30 [==============================] - 0s 14ms/step - loss: 3.0895e-04 - accuracy: 1.0000 - val_loss: 0.6924 - val_accuracy: 0.8834\n"
          ]
        }
      ],
      "source": [
        "model = keras.Sequential([\n",
        "    layers.Dense(512, activation=\"relu\"),\n",
        "    layers.Dense(512, activation=\"relu\"),\n",
        "    layers.Dense(1, activation=\"sigmoid\")\n",
        "])\n",
        "model.compile(optimizer=\"rmsprop\",\n",
        "              loss=\"binary_crossentropy\",\n",
        "              metrics=[\"accuracy\"])\n",
        "history_larger_model = model.fit(\n",
        "    train_data, train_labels,\n",
        "    epochs=20, batch_size=512, validation_split=0.4)"
      ]
    },
    {
      "cell_type": "markdown",
      "metadata": {
        "id": "HkMwsNWiTk3b"
      },
      "source": [
        "#### 가중치 규제 추가하기"
      ]
    },
    {
      "cell_type": "markdown",
      "metadata": {
        "id": "slmc7NwkTk3b"
      },
      "source": [
        "**모델에 L2 가중치 추가하기**"
      ]
    },
    {
      "cell_type": "code",
      "execution_count": 14,
      "metadata": {
        "colab": {
          "base_uri": "https://localhost:8080/"
        },
        "execution": {
          "iopub.execute_input": "2022-05-21T01:07:55.445676Z",
          "iopub.status.busy": "2022-05-21T01:07:55.444826Z",
          "iopub.status.idle": "2022-05-21T01:08:04.225182Z",
          "shell.execute_reply": "2022-05-21T01:08:04.224432Z"
        },
        "id": "BbKqHmXtTk3b",
        "outputId": "89b3595e-57f9-4e11-f373-b7d9ae79f9ba"
      },
      "outputs": [
        {
          "name": "stdout",
          "output_type": "stream",
          "text": [
            "Epoch 1/20\n",
            "30/30 [==============================] - 2s 26ms/step - loss: 0.6242 - accuracy: 0.7739 - val_loss: 0.4918 - val_accuracy: 0.8663\n",
            "Epoch 2/20\n",
            "30/30 [==============================] - 0s 14ms/step - loss: 0.4260 - accuracy: 0.8869 - val_loss: 0.4072 - val_accuracy: 0.8818\n",
            "Epoch 3/20\n",
            "30/30 [==============================] - 0s 14ms/step - loss: 0.3487 - accuracy: 0.9078 - val_loss: 0.4188 - val_accuracy: 0.8569\n",
            "Epoch 4/20\n",
            "30/30 [==============================] - 0s 15ms/step - loss: 0.3096 - accuracy: 0.9227 - val_loss: 0.3719 - val_accuracy: 0.8797\n",
            "Epoch 5/20\n",
            "30/30 [==============================] - 0s 15ms/step - loss: 0.2862 - accuracy: 0.9299 - val_loss: 0.3562 - val_accuracy: 0.8884\n",
            "Epoch 6/20\n",
            "30/30 [==============================] - 0s 14ms/step - loss: 0.2685 - accuracy: 0.9357 - val_loss: 0.3574 - val_accuracy: 0.8861\n",
            "Epoch 7/20\n",
            "30/30 [==============================] - 0s 14ms/step - loss: 0.2551 - accuracy: 0.9427 - val_loss: 0.3591 - val_accuracy: 0.8833\n",
            "Epoch 8/20\n",
            "30/30 [==============================] - 0s 14ms/step - loss: 0.2498 - accuracy: 0.9427 - val_loss: 0.3638 - val_accuracy: 0.8825\n",
            "Epoch 9/20\n",
            "30/30 [==============================] - 0s 15ms/step - loss: 0.2403 - accuracy: 0.9476 - val_loss: 0.3914 - val_accuracy: 0.8751\n",
            "Epoch 10/20\n",
            "30/30 [==============================] - 0s 14ms/step - loss: 0.2347 - accuracy: 0.9485 - val_loss: 0.3696 - val_accuracy: 0.8817\n",
            "Epoch 11/20\n",
            "30/30 [==============================] - 0s 14ms/step - loss: 0.2322 - accuracy: 0.9480 - val_loss: 0.3909 - val_accuracy: 0.8775\n",
            "Epoch 12/20\n",
            "30/30 [==============================] - 0s 15ms/step - loss: 0.2211 - accuracy: 0.9561 - val_loss: 0.4592 - val_accuracy: 0.8511\n",
            "Epoch 13/20\n",
            "30/30 [==============================] - 0s 15ms/step - loss: 0.2246 - accuracy: 0.9515 - val_loss: 0.3816 - val_accuracy: 0.8813\n",
            "Epoch 14/20\n",
            "30/30 [==============================] - 0s 14ms/step - loss: 0.2159 - accuracy: 0.9561 - val_loss: 0.4321 - val_accuracy: 0.8665\n",
            "Epoch 15/20\n",
            "30/30 [==============================] - 0s 14ms/step - loss: 0.2168 - accuracy: 0.9549 - val_loss: 0.3902 - val_accuracy: 0.8785\n",
            "Epoch 16/20\n",
            "30/30 [==============================] - 0s 14ms/step - loss: 0.2116 - accuracy: 0.9576 - val_loss: 0.3916 - val_accuracy: 0.8767\n",
            "Epoch 17/20\n",
            "30/30 [==============================] - 0s 15ms/step - loss: 0.2119 - accuracy: 0.9581 - val_loss: 0.3962 - val_accuracy: 0.8776\n",
            "Epoch 18/20\n",
            "30/30 [==============================] - 0s 15ms/step - loss: 0.2081 - accuracy: 0.9599 - val_loss: 0.4113 - val_accuracy: 0.8754\n",
            "Epoch 19/20\n",
            "30/30 [==============================] - 0s 15ms/step - loss: 0.2087 - accuracy: 0.9582 - val_loss: 0.4025 - val_accuracy: 0.8775\n",
            "Epoch 20/20\n",
            "30/30 [==============================] - 0s 14ms/step - loss: 0.1965 - accuracy: 0.9640 - val_loss: 0.4473 - val_accuracy: 0.8638\n"
          ]
        }
      ],
      "source": [
        "from tensorflow.keras import regularizers\n",
        "model = keras.Sequential([\n",
        "    layers.Dense(16,\n",
        "                 kernel_regularizer=regularizers.l2(0.002),\n",
        "                 activation=\"relu\"),\n",
        "    layers.Dense(16,\n",
        "                 kernel_regularizer=regularizers.l2(0.002),\n",
        "                 activation=\"relu\"),\n",
        "    layers.Dense(1, activation=\"sigmoid\")\n",
        "])\n",
        "model.compile(optimizer=\"rmsprop\",\n",
        "              loss=\"binary_crossentropy\",\n",
        "              metrics=[\"accuracy\"])\n",
        "history_l2_reg = model.fit(\n",
        "    train_data, train_labels,\n",
        "    epochs=20, batch_size=512, validation_split=0.4)"
      ]
    },
    {
      "cell_type": "markdown",
      "metadata": {
        "id": "766AbsD9Tk3c"
      },
      "source": [
        "**케라스에서 사용할 수 있는 가중치 규제**"
      ]
    },
    {
      "cell_type": "code",
      "execution_count": 15,
      "metadata": {
        "colab": {
          "base_uri": "https://localhost:8080/"
        },
        "execution": {
          "iopub.execute_input": "2022-05-21T01:08:04.229728Z",
          "iopub.status.busy": "2022-05-21T01:08:04.228866Z",
          "iopub.status.idle": "2022-05-21T01:08:04.237099Z",
          "shell.execute_reply": "2022-05-21T01:08:04.235990Z"
        },
        "id": "tT6wJynITk3c",
        "outputId": "65db72bb-52b7-4506-ef29-2c744b4ab897"
      },
      "outputs": [
        {
          "data": {
            "text/plain": [
              "<keras.regularizers.L1L2 at 0x7f153c37b640>"
            ]
          },
          "execution_count": 15,
          "metadata": {},
          "output_type": "execute_result"
        }
      ],
      "source": [
        "from tensorflow.keras import regularizers\n",
        "regularizers.l1(0.001)\n",
        "regularizers.l1_l2(l1=0.001, l2=0.001)"
      ]
    },
    {
      "cell_type": "markdown",
      "metadata": {
        "id": "ultTwtPKTk3c"
      },
      "source": [
        "#### 드롭아웃 추가"
      ]
    },
    {
      "cell_type": "markdown",
      "metadata": {
        "id": "MWW1i75kTk3c"
      },
      "source": [
        "**IMDB 모델에 드롭아웃 추가하기**"
      ]
    },
    {
      "cell_type": "code",
      "execution_count": 16,
      "metadata": {
        "colab": {
          "base_uri": "https://localhost:8080/"
        },
        "execution": {
          "iopub.execute_input": "2022-05-21T01:08:04.241161Z",
          "iopub.status.busy": "2022-05-21T01:08:04.240762Z",
          "iopub.status.idle": "2022-05-21T01:08:13.113623Z",
          "shell.execute_reply": "2022-05-21T01:08:13.112554Z"
        },
        "id": "K6C938cRTk3d",
        "outputId": "cab61d67-bb61-424e-f606-f01b4aec4aec"
      },
      "outputs": [
        {
          "name": "stdout",
          "output_type": "stream",
          "text": [
            "Epoch 1/20\n",
            "30/30 [==============================] - 2s 26ms/step - loss: 0.6596 - accuracy: 0.6037 - val_loss: 0.5792 - val_accuracy: 0.8326\n",
            "Epoch 2/20\n",
            "30/30 [==============================] - 0s 14ms/step - loss: 0.5570 - accuracy: 0.7374 - val_loss: 0.4625 - val_accuracy: 0.8619\n",
            "Epoch 3/20\n",
            "30/30 [==============================] - 0s 15ms/step - loss: 0.4767 - accuracy: 0.7977 - val_loss: 0.3952 - val_accuracy: 0.8828\n",
            "Epoch 4/20\n",
            "30/30 [==============================] - 0s 15ms/step - loss: 0.4143 - accuracy: 0.8350 - val_loss: 0.3290 - val_accuracy: 0.8859\n",
            "Epoch 5/20\n",
            "30/30 [==============================] - 0s 15ms/step - loss: 0.3597 - accuracy: 0.8569 - val_loss: 0.2972 - val_accuracy: 0.8874\n",
            "Epoch 6/20\n",
            "30/30 [==============================] - 0s 15ms/step - loss: 0.3136 - accuracy: 0.8796 - val_loss: 0.2852 - val_accuracy: 0.8838\n",
            "Epoch 7/20\n",
            "30/30 [==============================] - 0s 14ms/step - loss: 0.2784 - accuracy: 0.8921 - val_loss: 0.2872 - val_accuracy: 0.8886\n",
            "Epoch 8/20\n",
            "30/30 [==============================] - 0s 15ms/step - loss: 0.2558 - accuracy: 0.9015 - val_loss: 0.2749 - val_accuracy: 0.8907\n",
            "Epoch 9/20\n",
            "30/30 [==============================] - 0s 14ms/step - loss: 0.2270 - accuracy: 0.9147 - val_loss: 0.2794 - val_accuracy: 0.8922\n",
            "Epoch 10/20\n",
            "30/30 [==============================] - 0s 15ms/step - loss: 0.2080 - accuracy: 0.9267 - val_loss: 0.2927 - val_accuracy: 0.8912\n",
            "Epoch 11/20\n",
            "30/30 [==============================] - 0s 15ms/step - loss: 0.1904 - accuracy: 0.9321 - val_loss: 0.3047 - val_accuracy: 0.8855\n",
            "Epoch 12/20\n",
            "30/30 [==============================] - 0s 15ms/step - loss: 0.1708 - accuracy: 0.9407 - val_loss: 0.3208 - val_accuracy: 0.8887\n",
            "Epoch 13/20\n",
            "30/30 [==============================] - 0s 15ms/step - loss: 0.1560 - accuracy: 0.9487 - val_loss: 0.3371 - val_accuracy: 0.8887\n",
            "Epoch 14/20\n",
            "30/30 [==============================] - 0s 15ms/step - loss: 0.1448 - accuracy: 0.9474 - val_loss: 0.3548 - val_accuracy: 0.8888\n",
            "Epoch 15/20\n",
            "30/30 [==============================] - 0s 14ms/step - loss: 0.1296 - accuracy: 0.9525 - val_loss: 0.3811 - val_accuracy: 0.8886\n",
            "Epoch 16/20\n",
            "30/30 [==============================] - 0s 15ms/step - loss: 0.1234 - accuracy: 0.9558 - val_loss: 0.3888 - val_accuracy: 0.8885\n",
            "Epoch 17/20\n",
            "30/30 [==============================] - 0s 15ms/step - loss: 0.1142 - accuracy: 0.9605 - val_loss: 0.4153 - val_accuracy: 0.8797\n",
            "Epoch 18/20\n",
            "30/30 [==============================] - 0s 15ms/step - loss: 0.1116 - accuracy: 0.9600 - val_loss: 0.4573 - val_accuracy: 0.8847\n",
            "Epoch 19/20\n",
            "30/30 [==============================] - 0s 15ms/step - loss: 0.1067 - accuracy: 0.9610 - val_loss: 0.4712 - val_accuracy: 0.8865\n",
            "Epoch 20/20\n",
            "30/30 [==============================] - 0s 14ms/step - loss: 0.0960 - accuracy: 0.9661 - val_loss: 0.5224 - val_accuracy: 0.8823\n"
          ]
        }
      ],
      "source": [
        "model = keras.Sequential([\n",
        "    layers.Dense(16, activation=\"relu\"),\n",
        "    layers.Dropout(0.5),\n",
        "    layers.Dense(16, activation=\"relu\"),\n",
        "    layers.Dropout(0.5),\n",
        "    layers.Dense(1, activation=\"sigmoid\")\n",
        "])\n",
        "model.compile(optimizer=\"rmsprop\",\n",
        "              loss=\"binary_crossentropy\",\n",
        "              metrics=[\"accuracy\"])\n",
        "history_dropout = model.fit(\n",
        "    train_data, train_labels,\n",
        "    epochs=20, batch_size=512, validation_split=0.4)"
      ]
    },
    {
      "cell_type": "markdown",
      "metadata": {
        "id": "JuocOmx8Tk3d"
      },
      "source": [
        "## 요약"
      ]
    }
  ],
  "metadata": {
    "accelerator": "GPU",
    "colab": {
      "collapsed_sections": [],
      "name": "chapter05_fundamentals-of-ml.i",
      "provenance": []
    },
    "gpuClass": "standard",
    "kernelspec": {
      "display_name": "Python 3",
      "language": "python",
      "name": "python3"
    },
    "language_info": {
      "codemirror_mode": {
        "name": "ipython",
        "version": 3
      },
      "file_extension": ".py",
      "mimetype": "text/x-python",
      "name": "python",
      "nbconvert_exporter": "python",
      "pygments_lexer": "ipython3",
      "version": "3.8.10"
    }
  },
  "nbformat": 4,
  "nbformat_minor": 0
}
